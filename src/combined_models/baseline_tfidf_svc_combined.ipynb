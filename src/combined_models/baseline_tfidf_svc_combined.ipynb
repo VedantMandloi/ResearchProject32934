{
 "cells": [
  {
   "cell_type": "code",
   "execution_count": 1,
   "metadata": {},
   "outputs": [],
   "source": [
    "from data_loader import read_json_as_df\n",
    "\n",
    "import scipy\n",
    "import numpy as np\n",
    "import pandas as pd\n",
    "import matplotlib.pyplot as plt\n",
    "\n",
    "from sklearn.decomposition import PCA\n",
    "from sklearn.manifold import TSNE\n",
    "from sklearn.svm import SVC, LinearSVC\n",
    "from sklearn.metrics import classification_report, f1_score\n",
    "from sklearn.feature_extraction.text import TfidfVectorizer\n",
    "from sklearn.model_selection import train_test_split, RandomizedSearchCV\n",
    "\n",
    "pd.options.display.max_colwidth = 1000"
   ]
  },
  {
   "cell_type": "code",
   "execution_count": 2,
   "metadata": {},
   "outputs": [],
   "source": [
    "train_df = read_json_as_df('combined-train.json')\n",
    "test_df = read_json_as_df('combined-test.json')"
   ]
  },
  {
   "cell_type": "code",
   "execution_count": 3,
   "metadata": {},
   "outputs": [
    {
     "name": "stdout",
     "output_type": "stream",
     "text": [
      "Mean: 431.3398733199444 \n",
      "Median: 212.0 \n",
      "Std: 634.5942912261138 \n"
     ]
    },
    {
     "data": {
      "text/plain": [
       "{'whiskers': [<matplotlib.lines.Line2D at 0x29ba4077588>,\n",
       "  <matplotlib.lines.Line2D at 0x29ba4077940>],\n",
       " 'caps': [<matplotlib.lines.Line2D at 0x29ba4077cc0>,\n",
       "  <matplotlib.lines.Line2D at 0x29ba408c080>],\n",
       " 'boxes': [<matplotlib.lines.Line2D at 0x29ba4077438>],\n",
       " 'medians': [<matplotlib.lines.Line2D at 0x29ba408c400>],\n",
       " 'fliers': [<matplotlib.lines.Line2D at 0x29ba408c780>],\n",
       " 'means': []}"
      ]
     },
     "execution_count": 3,
     "metadata": {},
     "output_type": "execute_result"
    },
    {
     "data": {
      "image/png": "[encoded data removed]",
      "text/plain": [
       "<Figure size 432x288 with 1 Axes>"
      ]
     },
     "metadata": {
      "needs_background": "light"
     },
     "output_type": "display_data"
    }
   ],
   "source": [
    "text_lengths = np.array([len(sent) for sent in train_df.text])\n",
    "\n",
    "print(f'Mean: {np.mean(text_lengths)} \\nMedian: {np.median(text_lengths)} \\nStd: {np.std(text_lengths)} ')\n",
    "\n",
    "plt.boxplot(text_lengths)"
   ]
  },
  {
   "cell_type": "code",
   "execution_count": 4,
   "metadata": {},
   "outputs": [
    {
     "name": "stdout",
     "output_type": "stream",
     "text": [
      "Mean: 552.390977443609 \n",
      "Median: 339.0 \n",
      "Std: 612.6174318555834 \n"
     ]
    },
    {
     "data": {
      "text/plain": [
       "{'whiskers': [<matplotlib.lines.Line2D at 0x29ba6123cf8>,\n",
       "  <matplotlib.lines.Line2D at 0x29ba61300b8>],\n",
       " 'caps': [<matplotlib.lines.Line2D at 0x29ba6130438>,\n",
       "  <matplotlib.lines.Line2D at 0x29ba61307b8>],\n",
       " 'boxes': [<matplotlib.lines.Line2D at 0x29ba6123ba8>],\n",
       " 'medians': [<matplotlib.lines.Line2D at 0x29ba6130b38>],\n",
       " 'fliers': [<matplotlib.lines.Line2D at 0x29ba6130ef0>],\n",
       " 'means': []}"
      ]
     },
     "execution_count": 4,
     "metadata": {},
     "output_type": "execute_result"
    },
    {
     "data": {
      "image/png": "[encoded data removed]",
      "text/plain": [
       "<Figure size 432x288 with 1 Axes>"
      ]
     },
     "metadata": {
      "needs_background": "light"
     },
     "output_type": "display_data"
    }
   ],
   "source": [
    "text_lengths = np.array([len(sent) for sent in test_df.text])\n",
    "\n",
    "print(f'Mean: {np.mean(text_lengths)} \\nMedian: {np.median(text_lengths)} \\nStd: {np.std(text_lengths)} ')\n",
    "\n",
    "plt.boxplot(text_lengths)"
   ]
  },
  {
   "cell_type": "code",
   "execution_count": 5,
   "metadata": {
    "collapsed": false,
    "jupyter": {
     "outputs_hidden": false
    },
    "pycharm": {
     "is_executing": false,
     "name": "#%%\n"
    }
   },
   "outputs": [
    {
     "data": {
      "text/plain": [
       "green       3979\n",
       "amber       1581\n",
       "red          651\n",
       "escalate     262\n",
       "Name: priority, dtype: int64"
      ]
     },
     "execution_count": 5,
     "metadata": {},
     "output_type": "execute_result"
    }
   ],
   "source": [
    "train_df.priority.value_counts()"
   ]
  },
  {
   "cell_type": "code",
   "execution_count": 6,
   "metadata": {},
   "outputs": [
    {
     "data": {
      "text/plain": [
       "green       159\n",
       "amber       154\n",
       "red          69\n",
       "escalate     17\n",
       "Name: priority, dtype: int64"
      ]
     },
     "execution_count": 6,
     "metadata": {},
     "output_type": "execute_result"
    }
   ],
   "source": [
    "test_df.priority.value_counts()"
   ]
  },
  {
   "cell_type": "code",
   "execution_count": 7,
   "metadata": {
    "collapsed": false,
    "jupyter": {
     "outputs_hidden": false
    },
    "pycharm": {
     "is_executing": false,
     "name": "#%%\n"
    }
   },
   "outputs": [],
   "source": [
    "vectorizer = TfidfVectorizer(ngram_range=(1,1))"
   ]
  },
  {
   "cell_type": "markdown",
   "metadata": {
    "pycharm": {
     "name": "#%% md\n"
    }
   },
   "source": [
    "# Initial model creation without using test set"
   ]
  },
  {
   "cell_type": "code",
   "execution_count": 8,
   "metadata": {
    "collapsed": false,
    "jupyter": {
     "outputs_hidden": false
    },
    "pycharm": {
     "is_executing": false,
     "name": "#%%\n"
    }
   },
   "outputs": [],
   "source": [
    "features = vectorizer.fit_transform(train_df.text)\n",
    "test_features = vectorizer.transform(test_df.text)"
   ]
  },
  {
   "cell_type": "code",
   "execution_count": 9,
   "metadata": {
    "collapsed": false,
    "jupyter": {
     "outputs_hidden": false
    },
    "pycharm": {
     "is_executing": false,
     "name": "#%%\n"
    }
   },
   "outputs": [
    {
     "data": {
      "text/plain": [
       "(6473, 16017)"
      ]
     },
     "execution_count": 9,
     "metadata": {},
     "output_type": "execute_result"
    }
   ],
   "source": [
    "features.shape"
   ]
  },
  {
   "cell_type": "code",
   "execution_count": 10,
   "metadata": {},
   "outputs": [
    {
     "data": {
      "text/plain": [
       "<matplotlib.collections.PathCollection at 0x29ba627b5c0>"
      ]
     },
     "execution_count": 10,
     "metadata": {},
     "output_type": "execute_result"
    },
    {
     "data": {
      "image/png": "[encoded data removed]",
      "text/plain": [
       "<Figure size 432x288 with 1 Axes>"
      ]
     },
     "metadata": {
      "needs_background": "light"
     },
     "output_type": "display_data"
    }
   ],
   "source": [
    "dense_features = features.todense()\n",
    "\n",
    "pca = PCA(n_components=2).fit(dense_features)\n",
    "\n",
    "features_2d = pca.transform(dense_features)\n",
    "\n",
    "plt.scatter(features_2d[:, 0], features_2d[:, 1], c=train_df.priority.map({'green': 'green', \n",
    "                                                                           'amber': 'orange',\n",
    "                                                                           'red': 'red',\n",
    "                                                                           'escalate': 'black'}))"
   ]
  },
  {
   "cell_type": "code",
   "execution_count": 11,
   "metadata": {
    "collapsed": false,
    "jupyter": {
     "outputs_hidden": false
    },
    "pycharm": {
     "is_executing": false,
     "name": "#%%\n"
    }
   },
   "outputs": [
    {
     "name": "stdout",
     "output_type": "stream",
     "text": [
      "Wall time: 14 s\n"
     ]
    }
   ],
   "source": [
    "%%time\n",
    "\n",
    "params = {'C': scipy.stats.expon(scale=10), 'gamma': scipy.stats.expon(scale=.1), 'kernel': ['rbf'], 'class_weight':['balanced']}\n",
    "\n",
    "# clf = RandomizedSearchCV(estimator=SVC(),\n",
    "#                          param_distributions=params,\n",
    "#                          n_jobs=-1,\n",
    "#                          scoring='f1_macro',\n",
    "#                          cv=5,\n",
    "#                          n_iter=100)\n",
    "\n",
    "clf = SVC(C=4.884011448032894, break_ties=False, cache_size=200,\n",
    "    class_weight='balanced', coef0=0.0, decision_function_shape='ovr', degree=3,\n",
    "    gamma=0.11307298207551204, kernel='rbf', max_iter=-1, probability=False,\n",
    "    random_state=None, shrinking=True, tol=0.001, verbose=False) \n",
    "\n",
    "searched_clf = clf.fit(features, train_df.priority)\n",
    "\n",
    "# print('Best Params:', searched_clf.best_params_, '\\n')\n",
    "# print('Best macro avg F1 score:', searched_clf.best_score_, '\\n')\n",
    "# print(searched_clf.best_estimator_, '\\n')\n",
    "\n"
   ]
  },
  {
   "cell_type": "markdown",
   "metadata": {
    "pycharm": {
     "name": "#%% md\n"
    }
   },
   "source": [
    "# Main method to test classifier"
   ]
  },
  {
   "cell_type": "code",
   "execution_count": 12,
   "metadata": {
    "pycharm": {
     "name": "#%%\n"
    }
   },
   "outputs": [],
   "source": [
    "def run_tfidf_svc(clf, xtest, ytest):\n",
    "    \n",
    "    predicted_priority = clf.predict(xtest)\n",
    "\n",
    "    print('Classification Report:\\n', classification_report(ytest, predicted_priority))\n",
    "    \n",
    "    return predicted_priority\n",
    "    \n",
    "    "
   ]
  },
  {
   "cell_type": "markdown",
   "metadata": {
    "pycharm": {
     "name": "#%% md\n"
    }
   },
   "source": [
    "# Train and test on full datasets"
   ]
  },
  {
   "cell_type": "code",
   "execution_count": 14,
   "metadata": {
    "collapsed": false,
    "jupyter": {
     "outputs_hidden": false
    },
    "pycharm": {
     "is_executing": false,
     "name": "#%%\n"
    }
   },
   "outputs": [
    {
     "name": "stdout",
     "output_type": "stream",
     "text": [
      "Classification Report:\n",
      "               precision    recall  f1-score   support\n",
      "\n",
      "       amber       0.65      0.58      0.62       154\n",
      "    escalate       0.44      0.47      0.46        17\n",
      "       green       0.71      0.88      0.79       159\n",
      "         red       0.60      0.41      0.48        69\n",
      "\n",
      "    accuracy                           0.67       399\n",
      "   macro avg       0.60      0.59      0.59       399\n",
      "weighted avg       0.66      0.67      0.66       399\n",
      "\n"
     ]
    }
   ],
   "source": [
    "predicted_priority = run_tfidf_svc(clf = searched_clf,\n",
    "                                   xtest = test_features,\n",
    "                                   ytest = test_df.priority)"
   ]
  },
  {
   "cell_type": "markdown",
   "metadata": {
    "jupyter": {
     "outputs_hidden": false
    },
    "pycharm": {
     "name": "#%%\n"
    }
   },
   "source": [
    "## Official - ignoring 'green' priority"
   ]
  },
  {
   "cell_type": "code",
   "execution_count": 15,
   "metadata": {
    "collapsed": false,
    "jupyter": {
     "outputs_hidden": false
    },
    "pycharm": {
     "is_executing": false,
     "name": "#%%\n"
    }
   },
   "outputs": [
    {
     "name": "stdout",
     "output_type": "stream",
     "text": [
      "Macro avgd f1 score:  0.5187799446656319\n"
     ]
    }
   ],
   "source": [
    "print('Macro avgd f1 score: ',\n",
    "      f1_score(test_df.priority,\n",
    "               predicted_priority, \n",
    "               labels=['escalate', 'red', 'amber'],\n",
    "               average='macro'))"
   ]
  },
  {
   "cell_type": "markdown",
   "metadata": {
    "pycharm": {
     "name": "#%% md\n"
    }
   },
   "source": [
    "## Flagged - 'crisis + red + amber' as flagged vs 'green'"
   ]
  },
  {
   "cell_type": "code",
   "execution_count": 16,
   "metadata": {
    "pycharm": {
     "name": "#%%\n"
    }
   },
   "outputs": [
    {
     "name": "stdout",
     "output_type": "stream",
     "text": [
      "Classification Report:\n",
      "               precision    recall  f1-score   support\n",
      "\n",
      "     flagged       0.91      0.77      0.83       240\n",
      "       green       0.71      0.88      0.79       159\n",
      "\n",
      "    accuracy                           0.81       399\n",
      "   macro avg       0.81      0.82      0.81       399\n",
      "weighted avg       0.83      0.81      0.81       399\n",
      "\n"
     ]
    }
   ],
   "source": [
    "def map_flagged(label):\n",
    "    if label in ['escalate', 'red', 'amber']:\n",
    "        return 'flagged'\n",
    "    elif label == 'green':\n",
    "        return 'green'\n",
    "\n",
    "flagged_ytest = list(map(map_flagged, test_df.priority))\n",
    "flagged_predictions = list(map(map_flagged, predicted_priority))\n",
    "\n",
    "print('Classification Report:\\n', classification_report(flagged_ytest, flagged_predictions))"
   ]
  },
  {
   "cell_type": "markdown",
   "metadata": {
    "pycharm": {
     "name": "#%% md\n"
    }
   },
   "source": [
    "## Urgent - 'red + escalate' as urgent vs 'amber + green' as non_urgent"
   ]
  },
  {
   "cell_type": "code",
   "execution_count": 17,
   "metadata": {
    "pycharm": {
     "name": "#%%\n"
    }
   },
   "outputs": [
    {
     "name": "stdout",
     "output_type": "stream",
     "text": [
      "Classification Report:\n",
      "               precision    recall  f1-score   support\n",
      "\n",
      "  non-urgent       0.88      0.94      0.91       313\n",
      "      urgent       0.69      0.52      0.60        86\n",
      "\n",
      "    accuracy                           0.85       399\n",
      "   macro avg       0.78      0.73      0.75       399\n",
      "weighted avg       0.84      0.85      0.84       399\n",
      "\n"
     ]
    }
   ],
   "source": [
    "def map_urgent(label):\n",
    "    if label in ['escalate', 'red']:\n",
    "        return 'urgent'\n",
    "    elif label in ['green', 'amber']:\n",
    "        return 'non-urgent'\n",
    "\n",
    "urgent_ytest = list(map(map_urgent, test_df.priority))\n",
    "urgent_predictions = list(map(map_urgent, predicted_priority))\n",
    "\n",
    "print('Classification Report:\\n', classification_report(urgent_ytest, urgent_predictions))"
   ]
  },
  {
   "cell_type": "markdown",
   "metadata": {},
   "source": [
    "# Temp Rough Work"
   ]
  },
  {
   "cell_type": "code",
   "execution_count": null,
   "metadata": {},
   "outputs": [],
   "source": [
    "# train_features = vectorizer.fit_transform(train_df.text)\n",
    "\n",
    "# test_features = vectorizer.transform(test_df[test_df.priority != 'green'].text)\n",
    "\n",
    "# print(train_features.shape, train_df.priority.shape)\n",
    "# print(test_features.shape, test_df[test_df.priority != 'green'].priority.shape, '\\n')\n",
    "\n",
    "# svc_clf = SVC(class_weight='balanced')\n",
    "\n",
    "# print(svc_clf, '\\n')\n",
    "\n",
    "# svc_clf.fit(train_features, train_df.priority)\n",
    "\n",
    "# predicted_priority = svc_clf.predict(test_features)\n",
    "\n",
    "# print(classification_report(test_df[test_df.priority != 'green'].priority, predicted_priority))"
   ]
  }
 ],
 "metadata": {
  "kernelspec": {
   "display_name": "Python 3",
   "language": "python",
   "name": "python3"
  },
  "language_info": {
   "codemirror_mode": {
    "name": "ipython",
    "version": 3
   },
   "file_extension": ".py",
   "mimetype": "text/x-python",
   "name": "python",
   "nbconvert_exporter": "python",
   "pygments_lexer": "ipython3",
   "version": "3.7.0"
  }
 },
 "nbformat": 4,
 "nbformat_minor": 4
}
