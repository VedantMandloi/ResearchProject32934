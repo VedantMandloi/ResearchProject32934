{
 "cells": [
  {
   "cell_type": "code",
   "execution_count": 1,
   "metadata": {},
   "outputs": [],
   "source": [
    "from data_loader import read_json_as_df\n",
    "\n",
    "import scipy\n",
    "import numpy as np\n",
    "import pandas as pd\n",
    "import matplotlib.pyplot as plt\n",
    "\n",
    "from sklearn.svm import SVC, LinearSVC\n",
    "from sklearn.metrics import classification_report\n",
    "from sklearn.model_selection import train_test_split, RandomizedSearchCV\n",
    "from sklearn.feature_extraction.text import TfidfVectorizer\n",
    "\n",
    "pd.options.display.max_colwidth = 200 "
   ]
  },
  {
   "cell_type": "code",
   "execution_count": 2,
   "metadata": {},
   "outputs": [],
   "source": [
    "train_df = read_json_as_df('Data/clpsych16-train.json')\n",
    "test_df = read_json_as_df('Data/clpsych16-test.json')"
   ]
  },
  {
   "cell_type": "code",
   "execution_count": 3,
   "metadata": {},
   "outputs": [
    {
     "name": "stdout",
     "output_type": "stream",
     "text": [
      "Mean: 411.0960929250264 \n",
      "Median: 218.0 \n",
      "Std: 600.4321149494463 \n"
     ]
    },
    {
     "data": {
      "text/plain": [
       "{'whiskers': [<matplotlib.lines.Line2D at 0x14347eddf28>,\n",
       "  <matplotlib.lines.Line2D at 0x14347ef12b0>],\n",
       " 'caps': [<matplotlib.lines.Line2D at 0x14347ef1630>,\n",
       "  <matplotlib.lines.Line2D at 0x14347ef19b0>],\n",
       " 'boxes': [<matplotlib.lines.Line2D at 0x14347edddd8>],\n",
       " 'medians': [<matplotlib.lines.Line2D at 0x14347ef1d68>],\n",
       " 'fliers': [<matplotlib.lines.Line2D at 0x14347f00128>],\n",
       " 'means': []}"
      ]
     },
     "execution_count": 3,
     "metadata": {},
     "output_type": "execute_result"
    },
    {
     "data": {
      "image/png": "[encoded data removed]",
      "text/plain": [
       "<Figure size 432x288 with 1 Axes>"
      ]
     },
     "metadata": {
      "needs_background": "light"
     },
     "output_type": "display_data"
    }
   ],
   "source": [
    "text_lengths = np.array([len(sent) for sent in train_df.text])\n",
    "\n",
    "print(f'Mean: {np.mean(text_lengths)} \\nMedian: {np.median(text_lengths)} \\nStd: {np.std(text_lengths)} ')\n",
    "\n",
    "plt.boxplot(text_lengths)"
   ]
  },
  {
   "cell_type": "code",
   "execution_count": 4,
   "metadata": {},
   "outputs": [
    {
     "name": "stdout",
     "output_type": "stream",
     "text": [
      "Mean: 402.1701244813278 \n",
      "Median: 251.0 \n",
      "Std: 516.6792066581842 \n"
     ]
    },
    {
     "data": {
      "text/plain": [
       "{'whiskers': [<matplotlib.lines.Line2D at 0x14347f9a908>,\n",
       "  <matplotlib.lines.Line2D at 0x14347f9ac50>],\n",
       " 'caps': [<matplotlib.lines.Line2D at 0x14347f9afd0>,\n",
       "  <matplotlib.lines.Line2D at 0x14347fa5390>],\n",
       " 'boxes': [<matplotlib.lines.Line2D at 0x14347f9a7b8>],\n",
       " 'medians': [<matplotlib.lines.Line2D at 0x14347fa5710>],\n",
       " 'fliers': [<matplotlib.lines.Line2D at 0x14347fa5a90>],\n",
       " 'means': []}"
      ]
     },
     "execution_count": 4,
     "metadata": {},
     "output_type": "execute_result"
    },
    {
     "data": {
      "image/png": "[encoded data removed]",
      "text/plain": [
       "<Figure size 432x288 with 1 Axes>"
      ]
     },
     "metadata": {
      "needs_background": "light"
     },
     "output_type": "display_data"
    }
   ],
   "source": [
    "text_lengths = np.array([len(sent) for sent in test_df.text])\n",
    "\n",
    "print(f'Mean: {np.mean(text_lengths)} \\nMedian: {np.median(text_lengths)} \\nStd: {np.std(text_lengths)} ')\n",
    "\n",
    "plt.boxplot(text_lengths)"
   ]
  },
  {
   "cell_type": "code",
   "execution_count": 5,
   "metadata": {
    "collapsed": false,
    "jupyter": {
     "outputs_hidden": false
    },
    "pycharm": {
     "is_executing": false,
     "name": "#%%\n"
    }
   },
   "outputs": [
    {
     "data": {
      "text/plain": [
       "green       549\n",
       "amber       249\n",
       "red         110\n",
       "escalate     39\n",
       "Name: priority, dtype: int64"
      ]
     },
     "execution_count": 5,
     "metadata": {},
     "output_type": "execute_result"
    }
   ],
   "source": [
    "train_df.priority.value_counts()"
   ]
  },
  {
   "cell_type": "code",
   "execution_count": 6,
   "metadata": {},
   "outputs": [
    {
     "data": {
      "text/plain": [
       "green       166\n",
       "amber        47\n",
       "red          27\n",
       "escalate      1\n",
       "Name: priority, dtype: int64"
      ]
     },
     "execution_count": 6,
     "metadata": {},
     "output_type": "execute_result"
    }
   ],
   "source": [
    "test_df.priority.value_counts()"
   ]
  },
  {
   "cell_type": "code",
   "execution_count": 7,
   "metadata": {
    "collapsed": false,
    "jupyter": {
     "outputs_hidden": false
    },
    "pycharm": {
     "is_executing": false,
     "name": "#%%\n"
    }
   },
   "outputs": [],
   "source": [
    "vectorizer = TfidfVectorizer()"
   ]
  },
  {
   "cell_type": "markdown",
   "metadata": {
    "pycharm": {
     "name": "#%% md\n"
    }
   },
   "source": [
    "# Initial model creation without using test set"
   ]
  },
  {
   "cell_type": "code",
   "execution_count": 8,
   "metadata": {
    "collapsed": false,
    "jupyter": {
     "outputs_hidden": false
    },
    "pycharm": {
     "is_executing": false,
     "name": "#%%\n"
    }
   },
   "outputs": [],
   "source": [
    "features = vectorizer.fit_transform(train_df.text)"
   ]
  },
  {
   "cell_type": "code",
   "execution_count": 9,
   "metadata": {
    "collapsed": false,
    "jupyter": {
     "outputs_hidden": false
    },
    "pycharm": {
     "is_executing": false,
     "name": "#%%\n"
    }
   },
   "outputs": [
    {
     "data": {
      "text/plain": [
       "(947, 5379)"
      ]
     },
     "execution_count": 9,
     "metadata": {},
     "output_type": "execute_result"
    }
   ],
   "source": [
    "features.shape"
   ]
  },
  {
   "cell_type": "code",
   "execution_count": 10,
   "metadata": {
    "collapsed": false,
    "jupyter": {
     "outputs_hidden": false
    },
    "pycharm": {
     "is_executing": false,
     "name": "#%%\n"
    }
   },
   "outputs": [
    {
     "name": "stdout",
     "output_type": "stream",
     "text": [
      "{'C': 9.758524030644347, 'class_weight': 'balanced', 'gamma': 0.026788062720575264, 'kernel': 'rbf'}\n",
      "0.5097350773968585\n",
      "SVC(C=9.758524030644347, break_ties=False, cache_size=200,\n",
      "    class_weight='balanced', coef0=0.0, decision_function_shape='ovr', degree=3,\n",
      "    gamma=0.026788062720575264, kernel='rbf', max_iter=-1, probability=False,\n",
      "    random_state=None, shrinking=True, tol=0.001, verbose=False)\n",
      "Wall time: 25.3 s\n"
     ]
    }
   ],
   "source": [
    "%%time\n",
    "# X_train, X_test, y_train, y_test = train_test_split(features, \n",
    "#                                                     train_df.priority,\n",
    "#                                                     test_size=0.3,\n",
    "#                                                     # random_state=4,\n",
    "#                                                     stratify=train_df.priority)\n",
    "# print(X_train.shape, y_train.shape)\n",
    "# print(X_test.shape, y_test.shape)\n",
    "\n",
    "\n",
    "params = {'C': scipy.stats.expon(scale=100), 'gamma': scipy.stats.expon(scale=.1), 'kernel': ['rbf'], 'class_weight':['balanced']}\n",
    "\n",
    "clf = RandomizedSearchCV(estimator=SVC(),\n",
    "                         param_distributions=params,\n",
    "                         n_jobs=-1,\n",
    "                         scoring='f1_macro',\n",
    "                         cv=5,\n",
    "                         n_iter=100)\n",
    "\n",
    "searched_clf = clf.fit(features, train_df.priority)\n",
    "\n",
    "print(searched_clf.best_params_)\n",
    "print(searched_clf.best_score_)\n",
    "print(searched_clf.best_estimator_)\n",
    "\n"
   ]
  },
  {
   "cell_type": "markdown",
   "metadata": {
    "pycharm": {
     "name": "#%% md\n"
    }
   },
   "source": [
    "# Main method to train and test classifier"
   ]
  },
  {
   "cell_type": "code",
   "execution_count": 11,
   "metadata": {
    "pycharm": {
     "name": "#%%\n"
    }
   },
   "outputs": [],
   "source": [
    "def run_tfidf_svc(clf, xtrain, ytrain, xtest, ytest):\n",
    "    \n",
    "    vectorizer = TfidfVectorizer()\n",
    "    \n",
    "    train_features = vectorizer.fit_transform(xtrain)\n",
    "    test_features = vectorizer.transform(xtest)\n",
    "    \n",
    "    print(f'Training feature size: {train_features.shape} \\nTesting feature size: {test_features.shape}\\n')\n",
    "    \n",
    "    print(clf, '\\n')\n",
    "    \n",
    "    clf.fit(train_features, ytrain)\n",
    "    \n",
    "    predicted_priority = clf.predict(test_features)\n",
    "\n",
    "    print('Classification Report:\\n', classification_report(ytest, predicted_priority))\n",
    "    \n",
    "    "
   ]
  },
  {
   "cell_type": "markdown",
   "metadata": {
    "pycharm": {
     "name": "#%% md\n"
    }
   },
   "source": [
    "# Train and test on full datasets"
   ]
  },
  {
   "cell_type": "markdown",
   "metadata": {
    "jupyter": {
     "outputs_hidden": false
    },
    "pycharm": {
     "name": "#%%\n"
    }
   },
   "source": [
    "## Official - ignoring 'green' priority"
   ]
  },
  {
   "cell_type": "code",
   "execution_count": 12,
   "metadata": {
    "collapsed": false,
    "jupyter": {
     "outputs_hidden": false
    },
    "pycharm": {
     "is_executing": false,
     "name": "#%%\n"
    }
   },
   "outputs": [
    {
     "name": "stdout",
     "output_type": "stream",
     "text": [
      "Training feature size: (398, 3698) \n",
      "Testing feature size: (75, 3698)\n",
      "\n",
      "SVC(C=9.758524030644347, break_ties=False, cache_size=200,\n",
      "    class_weight='balanced', coef0=0.0, decision_function_shape='ovr', degree=3,\n",
      "    gamma=0.026788062720575264, kernel='rbf', max_iter=-1, probability=False,\n",
      "    random_state=None, shrinking=True, tol=0.001, verbose=False) \n",
      "\n",
      "Classification Report:\n",
      "               precision    recall  f1-score   support\n",
      "\n",
      "       amber       0.81      0.74      0.78        47\n",
      "    escalate       0.00      0.00      0.00         1\n",
      "         red       0.62      0.67      0.64        27\n",
      "\n",
      "    accuracy                           0.71        75\n",
      "   macro avg       0.48      0.47      0.47        75\n",
      "weighted avg       0.73      0.71      0.72        75\n",
      "\n"
     ]
    }
   ],
   "source": [
    "\n",
    "official_train_df = train_df[train_df.priority != 'green']\n",
    "official_test_df = test_df[test_df.priority != 'green']\n",
    "\n",
    "run_tfidf_svc(clf = searched_clf.best_estimator_,\n",
    "              xtrain = official_train_df.text,\n",
    "              ytrain = official_train_df.priority,\n",
    "              xtest = official_test_df.text,\n",
    "              ytest = official_test_df.priority)\n"
   ]
  },
  {
   "cell_type": "markdown",
   "metadata": {
    "pycharm": {
     "name": "#%% md\n"
    }
   },
   "source": [
    "## Flagged - 'crisis + red + amber' as flagged vs 'green'"
   ]
  },
  {
   "cell_type": "code",
   "execution_count": 13,
   "metadata": {
    "pycharm": {
     "name": "#%%\n"
    }
   },
   "outputs": [
    {
     "name": "stdout",
     "output_type": "stream",
     "text": [
      "green      549\n",
      "flagged    398\n",
      "Name: priority, dtype: int64 \n",
      "\n",
      "green      166\n",
      "flagged     75\n",
      "Name: priority, dtype: int64 \n",
      "\n",
      "Training feature size: (947, 5379) \n",
      "Testing feature size: (241, 5379)\n",
      "\n",
      "SVC(C=9.758524030644347, break_ties=False, cache_size=200,\n",
      "    class_weight='balanced', coef0=0.0, decision_function_shape='ovr', degree=3,\n",
      "    gamma=0.026788062720575264, kernel='rbf', max_iter=-1, probability=False,\n",
      "    random_state=None, shrinking=True, tol=0.001, verbose=False) \n",
      "\n",
      "Classification Report:\n",
      "               precision    recall  f1-score   support\n",
      "\n",
      "     flagged       0.74      0.89      0.81        75\n",
      "       green       0.95      0.86      0.90       166\n",
      "\n",
      "    accuracy                           0.87       241\n",
      "   macro avg       0.85      0.88      0.86       241\n",
      "weighted avg       0.88      0.87      0.87       241\n",
      "\n"
     ]
    }
   ],
   "source": [
    "flagged_train_df = train_df.copy()\n",
    "flagged_test_df = test_df.copy()\n",
    "\n",
    "flagged_train_df.priority = flagged_train_df.priority.replace(to_replace=['red', 'escalate', 'amber'], value='flagged')\n",
    "flagged_test_df.priority = flagged_test_df.priority.replace(to_replace=['red', 'escalate', 'amber'], value='flagged')\n",
    "\n",
    "print(flagged_train_df.priority.value_counts(), '\\n')\n",
    "print(flagged_test_df.priority.value_counts(), '\\n')\n",
    "\n",
    "run_tfidf_svc(clf = searched_clf.best_estimator_,\n",
    "              xtrain = flagged_train_df.text,\n",
    "              ytrain = flagged_train_df.priority,\n",
    "              xtest = flagged_test_df.text,\n",
    "              ytest = flagged_test_df.priority)\n",
    "\n"
   ]
  },
  {
   "cell_type": "markdown",
   "metadata": {
    "pycharm": {
     "name": "#%% md\n"
    }
   },
   "source": [
    "## Urgent - 'red + escalate' as urgent vs 'amber + green' as non_urgent"
   ]
  },
  {
   "cell_type": "code",
   "execution_count": 14,
   "metadata": {
    "pycharm": {
     "name": "#%%\n"
    }
   },
   "outputs": [
    {
     "name": "stdout",
     "output_type": "stream",
     "text": [
      "non_urgent    798\n",
      "urgent        149\n",
      "Name: priority, dtype: int64 \n",
      "\n",
      "non_urgent    213\n",
      "urgent         28\n",
      "Name: priority, dtype: int64 \n",
      "\n",
      "Training feature size: (947, 5379) \n",
      "Testing feature size: (241, 5379)\n",
      "\n",
      "SVC(C=9.758524030644347, break_ties=False, cache_size=200,\n",
      "    class_weight='balanced', coef0=0.0, decision_function_shape='ovr', degree=3,\n",
      "    gamma=0.026788062720575264, kernel='rbf', max_iter=-1, probability=False,\n",
      "    random_state=None, shrinking=True, tol=0.001, verbose=False) \n",
      "\n",
      "Classification Report:\n",
      "               precision    recall  f1-score   support\n",
      "\n",
      "  non_urgent       0.97      0.90      0.93       213\n",
      "      urgent       0.51      0.82      0.63        28\n",
      "\n",
      "    accuracy                           0.89       241\n",
      "   macro avg       0.74      0.86      0.78       241\n",
      "weighted avg       0.92      0.89      0.90       241\n",
      "\n"
     ]
    }
   ],
   "source": [
    "urgent_train_df = train_df.copy()\n",
    "urgent_test_df = test_df.copy()\n",
    "\n",
    "urgent_train_df.priority = urgent_train_df.priority.replace(to_replace=['red', 'escalate'], value='urgent')\n",
    "urgent_train_df.priority = urgent_train_df.priority.replace(to_replace=['green', 'amber'], value='non_urgent')\n",
    "\n",
    "urgent_test_df.priority = urgent_test_df.priority.replace(to_replace=['red', 'escalate'], value='urgent')\n",
    "urgent_test_df.priority = urgent_test_df.priority.replace(to_replace=['green', 'amber'], value='non_urgent')\n",
    "\n",
    "print(urgent_train_df.priority.value_counts(), '\\n')\n",
    "print(urgent_test_df.priority.value_counts(), '\\n')\n",
    "\n",
    "run_tfidf_svc(clf = searched_clf.best_estimator_,\n",
    "              xtrain = urgent_train_df.text,\n",
    "              ytrain = urgent_train_df.priority,\n",
    "              xtest = urgent_test_df.text,\n",
    "              ytest = urgent_test_df.priority)\n"
   ]
  },
  {
   "cell_type": "markdown",
   "metadata": {
    "pycharm": {
     "name": "#%% md\n"
    }
   },
   "source": [
    "## Full dataset with individual categories"
   ]
  },
  {
   "cell_type": "code",
   "execution_count": null,
   "outputs": [],
   "source": [
    "run_tfidf_svc(clf = searched_clf.best_estimator_,\n",
    "              xtrain = train_df.text,\n",
    "              ytrain = train_df.priority,\n",
    "              xtest = test_df.text,\n",
    "              ytest = test_df.priority)"
   ],
   "metadata": {
    "collapsed": false,
    "pycharm": {
     "name": "#%%\n"
    }
   }
  },
  {
   "cell_type": "code",
   "execution_count": 15,
   "metadata": {},
   "outputs": [
    {
     "name": "stdout",
     "output_type": "stream",
     "text": [
      "Training feature size: (947, 5379) \n",
      "Testing feature size: (241, 5379)\n",
      "\n",
      "SVC(C=9.758524030644347, break_ties=False, cache_size=200,\n",
      "    class_weight='balanced', coef0=0.0, decision_function_shape='ovr', degree=3,\n",
      "    gamma=0.026788062720575264, kernel='rbf', max_iter=-1, probability=False,\n",
      "    random_state=None, shrinking=True, tol=0.001, verbose=False) \n",
      "\n",
      "Classification Report:\n",
      "               precision    recall  f1-score   support\n",
      "\n",
      "       amber       0.52      0.66      0.58        47\n",
      "    escalate       0.00      0.00      0.00         1\n",
      "       green       0.95      0.85      0.90       166\n",
      "         red       0.55      0.63      0.59        27\n",
      "\n",
      "    accuracy                           0.78       241\n",
      "   macro avg       0.50      0.53      0.52       241\n",
      "weighted avg       0.82      0.78      0.80       241\n",
      "\n"
     ]
    }
   ],
   "source": [
    "# Temp Rough Work"
   ]
  },
  {
   "cell_type": "markdown",
   "metadata": {},
   "source": [
    "# Temp Rough Work"
   ]
  },
  {
   "cell_type": "code",
   "execution_count": 16,
   "metadata": {},
   "outputs": [],
   "source": [
    "# train_features = vectorizer.fit_transform(train_df.text)\n",
    "\n",
    "# test_features = vectorizer.transform(test_df[test_df.priority != 'green'].text)\n",
    "\n",
    "# print(train_features.shape, train_df.priority.shape)\n",
    "# print(test_features.shape, test_df[test_df.priority != 'green'].priority.shape, '\\n')\n",
    "\n",
    "# svc_clf = SVC(class_weight='balanced')\n",
    "\n",
    "# print(svc_clf, '\\n')\n",
    "\n",
    "# svc_clf.fit(train_features, train_df.priority)\n",
    "\n",
    "# predicted_priority = svc_clf.predict(test_features)\n",
    "\n",
    "# print(classification_report(test_df[test_df.priority != 'green'].priority, predicted_priority))"
   ]
  }
 ],
 "metadata": {
  "kernelspec": {
   "display_name": "Python 3",
   "language": "python",
   "name": "python3"
  },
  "language_info": {
   "codemirror_mode": {
    "name": "ipython",
    "version": 3
   },
   "file_extension": ".py",
   "mimetype": "text/x-python",
   "name": "python",
   "nbconvert_exporter": "python",
   "pygments_lexer": "ipython3",
   "version": "3.7.0"
  }
 },
 "nbformat": 4,
 "nbformat_minor": 4
}