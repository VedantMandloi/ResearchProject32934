{
 "cells": [
  {
   "cell_type": "code",
   "execution_count": 19,
   "metadata": {},
   "outputs": [],
   "source": [
    "import scipy\n",
    "import numpy as np\n",
    "import pandas as pd\n",
    "import matplotlib.pyplot as plt\n",
    "\n",
    "from sklearn.decomposition import PCA\n",
    "from sklearn.manifold import TSNE\n",
    "from sklearn.svm import SVC, LinearSVC\n",
    "from sklearn.metrics import classification_report, f1_score\n",
    "from sklearn.feature_extraction.text import TfidfVectorizer\n",
    "from sklearn.model_selection import train_test_split, RandomizedSearchCV\n",
    "from sklearn.ensemble import RandomForestClassifier\n",
    "\n",
    "pd.options.display.max_colwidth = 1000"
   ]
  },
  {
   "cell_type": "code",
   "execution_count": 20,
   "metadata": {},
   "outputs": [],
   "source": [
    "import json\n",
    "from bs4 import BeautifulSoup\n",
    "import re\n",
    "\n",
    "\n",
    "def clean_text(raw_text: str) -> str:\n",
    "    if raw_text is None:\n",
    "        return ''\n",
    "\n",
    "    soup = BeautifulSoup(raw_text, features=\"html.parser\")\n",
    "    raw_text = soup.get_text()\n",
    "    raw_text = raw_text.replace('\\n', ' ').replace('\\xa0', ' ')\n",
    "    return raw_text\n",
    "\n",
    "\n",
    "def read_json_as_df(path: str) -> pd.DataFrame:\n",
    "    json_data = []\n",
    "\n",
    "    with open(path, 'r', encoding='utf-8') as file:\n",
    "\n",
    "        for line in file:\n",
    "            data = json.loads(line)\n",
    "            json_data.append([clean_text(data['post'].get('body', None)),\n",
    "                              data['priority']])\n",
    "\n",
    "    df = pd.DataFrame(data=json_data, columns=('text', 'priority'))\n",
    "\n",
    "    return df\n",
    "\n",
    "def read_json_text(path: str, tag: str) -> list:\n",
    "    json_data = []\n",
    "\n",
    "    with open(path, 'r', encoding='utf-8') as file:\n",
    "\n",
    "        for line in file:\n",
    "            data = json.loads(line)\n",
    "            json_data.append(clean_text(data.get(tag, None)))\n",
    "\n",
    "    return json_data"
   ]
  },
  {
   "cell_type": "code",
   "execution_count": 21,
   "metadata": {},
   "outputs": [],
   "source": [
    "from sklearn.metrics import classification_report, f1_score\n",
    "\n",
    "\n",
    "def print_results(true_labels, predictions):\n",
    "    \n",
    "    print('\\n\\033[1m-----------Full Classification Report-----------\\033[0m\\n')\n",
    "    print(classification_report(true_labels, predictions))\n",
    "    \n",
    "    \n",
    "    print(\"\\n\\033[1m------OFFICIAL - ignoring 'green' priority------\\033[0m\\n\")\n",
    "    print('\\tMacro avgd f1 score: ', f1_score(true_labels, predictions, labels=['escalate', 'red', 'amber'], average='macro'))\n",
    "    \n",
    "    \n",
    "    print(\"\\n\\033[1m----FLAGGED - 'crisis + red + amber' as flagged vs 'green'----\\033[0m\\n\")\n",
    "    def map_flagged(label):\n",
    "        if label in ['escalate', 'red', 'amber']:\n",
    "            return 'flagged'\n",
    "        elif label == 'green':\n",
    "            return 'green'\n",
    "\n",
    "    flagged_ytest = list(map(map_flagged, true_labels))\n",
    "    flagged_predictions = list(map(map_flagged, predictions))\n",
    "\n",
    "    print(classification_report(flagged_ytest, flagged_predictions))\n",
    "    \n",
    "    print(\"\\n\\033[1m----URGENT - 'red + escalate' as urgent vs 'amber + green' as non_urgent-----\\033[0m\\n\")\n",
    "    def map_urgent(label):\n",
    "        if label in ['escalate', 'red']:\n",
    "            return 'urgent'\n",
    "        elif label in ['green', 'amber']:\n",
    "            return 'non-urgent'\n",
    "\n",
    "    urgent_ytest = list(map(map_urgent, true_labels))\n",
    "    urgent_predictions = list(map(map_urgent, predictions))\n",
    "\n",
    "    print(classification_report(urgent_ytest, urgent_predictions))\n"
   ]
  },
  {
   "cell_type": "code",
   "execution_count": 22,
   "metadata": {},
   "outputs": [],
   "source": [
    "train_df = read_json_as_df('../Data/clpsych16-train.json')\n",
    "test_df = read_json_as_df('../Data/clpsych16-test.json')"
   ]
  },
  {
   "cell_type": "code",
   "execution_count": 23,
   "metadata": {},
   "outputs": [],
   "source": [
    "# train_df.text = train_df.text.str.strip()\n",
    "train_df = train_df[train_df.text != '']\n",
    "\n",
    "# test_df.text = test_df.text.str.strip()\n",
    "test_df = test_df[test_df.text != '']"
   ]
  },
  {
   "cell_type": "code",
   "execution_count": 24,
   "metadata": {},
   "outputs": [
    {
     "name": "stdout",
     "output_type": "stream",
     "text": [
      "Mean: 406.19279661016947 \n",
      "Median: 214.5 \n",
      "Std: 590.8579933773781 \n"
     ]
    },
    {
     "data": {
      "text/plain": [
       "{'whiskers': [<matplotlib.lines.Line2D at 0x2a99725fe80>,\n",
       "  <matplotlib.lines.Line2D at 0x2a99725f7f0>],\n",
       " 'caps': [<matplotlib.lines.Line2D at 0x2a99725f5f8>,\n",
       "  <matplotlib.lines.Line2D at 0x2a9972253c8>],\n",
       " 'boxes': [<matplotlib.lines.Line2D at 0x2a997243ba8>],\n",
       " 'medians': [<matplotlib.lines.Line2D at 0x2a9972251d0>],\n",
       " 'fliers': [<matplotlib.lines.Line2D at 0x2a997225550>],\n",
       " 'means': []}"
      ]
     },
     "execution_count": 24,
     "metadata": {},
     "output_type": "execute_result"
    },
    {
     "data": {
      "image/png": "[encoded data removed]",
      "text/plain": [
       "<Figure size 432x288 with 1 Axes>"
      ]
     },
     "metadata": {
      "needs_background": "light"
     },
     "output_type": "display_data"
    }
   ],
   "source": [
    "text_lengths = np.array([len(sent) for sent in train_df.text])\n",
    "\n",
    "print(f'Mean: {np.mean(text_lengths)} \\nMedian: {np.median(text_lengths)} \\nStd: {np.std(text_lengths)} ')\n",
    "\n",
    "plt.boxplot(text_lengths, vert=False)"
   ]
  },
  {
   "cell_type": "code",
   "execution_count": 25,
   "metadata": {},
   "outputs": [
    {
     "name": "stdout",
     "output_type": "stream",
     "text": [
      "Mean: 398.25 \n",
      "Median: 244.5 \n",
      "Std: 508.71836101455324 \n"
     ]
    },
    {
     "data": {
      "text/plain": [
       "{'whiskers': [<matplotlib.lines.Line2D at 0x2a99c740198>,\n",
       "  <matplotlib.lines.Line2D at 0x2a99c740518>],\n",
       " 'caps': [<matplotlib.lines.Line2D at 0x2a99c740898>,\n",
       "  <matplotlib.lines.Line2D at 0x2a99c740c18>],\n",
       " 'boxes': [<matplotlib.lines.Line2D at 0x2a99c740048>],\n",
       " 'medians': [<matplotlib.lines.Line2D at 0x2a99c740f98>],\n",
       " 'fliers': [<matplotlib.lines.Line2D at 0x2a99c74a358>],\n",
       " 'means': []}"
      ]
     },
     "execution_count": 25,
     "metadata": {},
     "output_type": "execute_result"
    },
    {
     "data": {
      "image/png": "[encoded data removed]",
      "text/plain": [
       "<Figure size 432x288 with 1 Axes>"
      ]
     },
     "metadata": {
      "needs_background": "light"
     },
     "output_type": "display_data"
    }
   ],
   "source": [
    "text_lengths = np.array([len(sent) for sent in test_df.text])\n",
    "\n",
    "print(f'Mean: {np.mean(text_lengths)} \\nMedian: {np.median(text_lengths)} \\nStd: {np.std(text_lengths)} ')\n",
    "\n",
    "plt.boxplot(text_lengths, vert=False)"
   ]
  },
  {
   "cell_type": "code",
   "execution_count": 26,
   "metadata": {},
   "outputs": [
    {
     "name": "stdout",
     "output_type": "stream",
     "text": [
      "(944, 2)\n",
      "(240, 2)\n"
     ]
    }
   ],
   "source": [
    "print(train_df.shape)\n",
    "print(test_df.shape)"
   ]
  },
  {
   "cell_type": "code",
   "execution_count": 9,
   "metadata": {
    "collapsed": false,
    "jupyter": {
     "outputs_hidden": false
    },
    "pycharm": {
     "is_executing": false,
     "name": "#%%\n"
    }
   },
   "outputs": [
    {
     "data": {
      "text/plain": [
       "green       545\n",
       "amber       249\n",
       "red         110\n",
       "escalate     39\n",
       "Name: priority, dtype: int64"
      ]
     },
     "execution_count": 9,
     "metadata": {},
     "output_type": "execute_result"
    }
   ],
   "source": [
    "train_df.priority.value_counts()"
   ]
  },
  {
   "cell_type": "code",
   "execution_count": 10,
   "metadata": {},
   "outputs": [
    {
     "data": {
      "text/plain": [
       "green       165\n",
       "amber        47\n",
       "red          27\n",
       "escalate      1\n",
       "Name: priority, dtype: int64"
      ]
     },
     "execution_count": 10,
     "metadata": {},
     "output_type": "execute_result"
    }
   ],
   "source": [
    "test_df.priority.value_counts()"
   ]
  },
  {
   "cell_type": "code",
   "execution_count": 11,
   "metadata": {
    "collapsed": false,
    "jupyter": {
     "outputs_hidden": false
    },
    "pycharm": {
     "is_executing": false,
     "name": "#%%\n"
    }
   },
   "outputs": [],
   "source": [
    "vectorizer = TfidfVectorizer(ngram_range=(1,1))"
   ]
  },
  {
   "cell_type": "markdown",
   "metadata": {
    "pycharm": {
     "name": "#%% md\n"
    }
   },
   "source": [
    "# Initial model creation without using test set"
   ]
  },
  {
   "cell_type": "code",
   "execution_count": 12,
   "metadata": {
    "collapsed": false,
    "jupyter": {
     "outputs_hidden": false
    },
    "pycharm": {
     "is_executing": false,
     "name": "#%%\n"
    }
   },
   "outputs": [],
   "source": [
    "features = vectorizer.fit_transform(train_df.text)\n",
    "test_features = vectorizer.transform(test_df.text)"
   ]
  },
  {
   "cell_type": "code",
   "execution_count": 13,
   "metadata": {
    "collapsed": false,
    "jupyter": {
     "outputs_hidden": false
    },
    "pycharm": {
     "is_executing": false,
     "name": "#%%\n"
    }
   },
   "outputs": [
    {
     "data": {
      "text/plain": [
       "(943, 5375)"
      ]
     },
     "execution_count": 13,
     "metadata": {},
     "output_type": "execute_result"
    }
   ],
   "source": [
    "features.shape"
   ]
  },
  {
   "cell_type": "code",
   "execution_count": 14,
   "metadata": {},
   "outputs": [
    {
     "data": {
      "text/plain": [
       "(240, 5375)"
      ]
     },
     "execution_count": 14,
     "metadata": {},
     "output_type": "execute_result"
    }
   ],
   "source": [
    "test_features.shape"
   ]
  },
  {
   "cell_type": "code",
   "execution_count": 15,
   "metadata": {},
   "outputs": [
    {
     "data": {
      "text/plain": [
       "<matplotlib.collections.PathCollection at 0x2a999452978>"
      ]
     },
     "execution_count": 15,
     "metadata": {},
     "output_type": "execute_result"
    },
    {
     "data": {
      "image/png": "[encoded data removed]",
      "text/plain": [
       "<Figure size 432x288 with 1 Axes>"
      ]
     },
     "metadata": {
      "needs_background": "light"
     },
     "output_type": "display_data"
    }
   ],
   "source": [
    "dense_features = features.todense()\n",
    "\n",
    "pca = PCA(n_components=2).fit(dense_features)\n",
    "\n",
    "features_2d = pca.transform(dense_features)\n",
    "\n",
    "plt.scatter(features_2d[:, 0], features_2d[:, 1], c=train_df.priority.map({'green': 'green', \n",
    "                                                                           'amber': 'orange',\n",
    "                                                                           'red': 'red',\n",
    "                                                                           'escalate': 'black'}))"
   ]
  },
  {
   "cell_type": "code",
   "execution_count": 16,
   "metadata": {},
   "outputs": [
    {
     "data": {
      "text/plain": [
       "<matplotlib.collections.PathCollection at 0x2a99bc0b5f8>"
      ]
     },
     "execution_count": 16,
     "metadata": {},
     "output_type": "execute_result"
    },
    {
     "data": {
      "image/png": "[encoded data removed]",
      "text/plain": [
       "<Figure size 432x288 with 1 Axes>"
      ]
     },
     "metadata": {
      "needs_background": "light"
     },
     "output_type": "display_data"
    }
   ],
   "source": [
    "dense_test_features = test_features.todense()\n",
    "\n",
    "pca = PCA(n_components=2).fit(dense_test_features)\n",
    "\n",
    "features_2d = pca.transform(dense_test_features)\n",
    "\n",
    "plt.scatter(features_2d[:, 0], features_2d[:, 1], c=test_df.priority.map({'green': 'green', \n",
    "                                                                           'amber': 'orange',\n",
    "                                                                           'red': 'red',\n",
    "                                                                           'escalate': 'black'}))"
   ]
  },
  {
   "cell_type": "markdown",
   "metadata": {},
   "source": [
    "# SVC "
   ]
  },
  {
   "cell_type": "code",
   "execution_count": 17,
   "metadata": {
    "pycharm": {
     "is_executing": false,
     "name": "#%%\n"
    }
   },
   "outputs": [
    {
     "name": "stdout",
     "output_type": "stream",
     "text": [
      "Fitting 5 folds for each of 100 candidates, totalling 500 fits\n"
     ]
    },
    {
     "name": "stderr",
     "output_type": "stream",
     "text": [
      "[Parallel(n_jobs=10)]: Using backend LokyBackend with 10 concurrent workers.\n",
      "[Parallel(n_jobs=10)]: Done  52 tasks      | elapsed:    4.3s\n",
      "[Parallel(n_jobs=10)]: Done 142 tasks      | elapsed:    8.8s\n",
      "[Parallel(n_jobs=10)]: Done 268 tasks      | elapsed:   15.3s\n",
      "[Parallel(n_jobs=10)]: Done 430 tasks      | elapsed:   24.6s\n",
      "[Parallel(n_jobs=10)]: Done 500 out of 500 | elapsed:   28.7s finished\n"
     ]
    },
    {
     "name": "stdout",
     "output_type": "stream",
     "text": [
      "Best Params: {'C': 14.501895363648549, 'class_weight': 'balanced', 'gamma': 0.014934138054645505, 'kernel': 'rbf'} \n",
      "\n",
      "Best macro avg F1 score: 0.521277531397794 \n",
      "\n",
      "SVC(C=14.501895363648549, class_weight='balanced', gamma=0.014934138054645505) \n",
      "\n",
      "Wall time: 29.2 s\n"
     ]
    }
   ],
   "source": [
    "%%time\n",
    "\n",
    "params = {'C': scipy.stats.expon(scale=10), 'gamma': scipy.stats.expon(scale=.1), 'kernel': ['rbf'], 'class_weight':['balanced']}\n",
    "\n",
    "clf = RandomizedSearchCV(estimator=SVC(),\n",
    "                         param_distributions=params,\n",
    "                         n_jobs=10,\n",
    "                         scoring='f1_macro',\n",
    "                         cv=5,\n",
    "                         n_iter=100,\n",
    "                         verbose=5)\n",
    "\n",
    "searched_clf = clf.fit(features, train_df.priority)\n",
    "\n",
    "print('Best Params:', searched_clf.best_params_, '\\n')\n",
    "print('Best macro avg F1 score:', searched_clf.best_score_, '\\n')\n",
    "print(searched_clf.best_estimator_, '\\n')\n",
    "\n"
   ]
  },
  {
   "cell_type": "code",
   "execution_count": 18,
   "metadata": {},
   "outputs": [
    {
     "name": "stdout",
     "output_type": "stream",
     "text": [
      "\n",
      "\u001b[1m-----------Full Classification Report-----------\u001b[0m\n",
      "\n",
      "              precision    recall  f1-score   support\n",
      "\n",
      "       amber       0.53      0.62      0.57        47\n",
      "    escalate       0.00      0.00      0.00         1\n",
      "       green       0.95      0.87      0.91       165\n",
      "         red       0.55      0.63      0.59        27\n",
      "\n",
      "    accuracy                           0.79       240\n",
      "   macro avg       0.51      0.53      0.52       240\n",
      "weighted avg       0.82      0.79      0.80       240\n",
      "\n",
      "\n",
      "\u001b[1m------OFFICIAL - ignoring 'green' priority------\u001b[0m\n",
      "\n",
      "\tMacro avgd f1 score:  0.38494478251070535\n",
      "\n",
      "\u001b[1m----FLAGGED - 'crisis + red + amber' as flagged vs 'green'----\u001b[0m\n",
      "\n",
      "              precision    recall  f1-score   support\n",
      "\n",
      "     flagged       0.76      0.89      0.82        75\n",
      "       green       0.95      0.87      0.91       165\n",
      "\n",
      "    accuracy                           0.88       240\n",
      "   macro avg       0.85      0.88      0.87       240\n",
      "weighted avg       0.89      0.88      0.88       240\n",
      "\n",
      "\n",
      "\u001b[1m----URGENT - 'red + escalate' as urgent vs 'amber + green' as non_urgent-----\u001b[0m\n",
      "\n",
      "              precision    recall  f1-score   support\n",
      "\n",
      "  non-urgent       0.96      0.94      0.95       212\n",
      "      urgent       0.61      0.71      0.66        28\n",
      "\n",
      "    accuracy                           0.91       240\n",
      "   macro avg       0.78      0.83      0.80       240\n",
      "weighted avg       0.92      0.91      0.92       240\n",
      "\n"
     ]
    }
   ],
   "source": [
    "predicted_priority = searched_clf.predict(test_features)    \n",
    "print_results(test_df.priority, predicted_priority)"
   ]
  },
  {
   "cell_type": "code",
   "execution_count": null,
   "metadata": {},
   "outputs": [],
   "source": []
  }
 ],
 "metadata": {
  "kernelspec": {
   "display_name": "Python 3",
   "language": "python",
   "name": "python3"
  },
  "language_info": {
   "codemirror_mode": {
    "name": "ipython",
    "version": 3
   },
   "file_extension": ".py",
   "mimetype": "text/x-python",
   "name": "python",
   "nbconvert_exporter": "python",
   "pygments_lexer": "ipython3",
   "version": "3.7.0"
  }
 },
 "nbformat": 4,
 "nbformat_minor": 4
}
