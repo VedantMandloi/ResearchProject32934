{
 "cells": [
  {
   "cell_type": "code",
   "execution_count": 1,
   "metadata": {},
   "outputs": [],
   "source": [
    "from data_loader import read_json_as_df\n",
    "\n",
    "import scipy\n",
    "import numpy as np\n",
    "import pandas as pd\n",
    "import matplotlib.pyplot as plt\n",
    "\n",
    "from sklearn.decomposition import PCA\n",
    "from sklearn.manifold import TSNE\n",
    "from sklearn.svm import SVC, LinearSVC\n",
    "from sklearn.metrics import classification_report, f1_score\n",
    "from sklearn.feature_extraction.text import TfidfVectorizer\n",
    "from sklearn.model_selection import train_test_split, RandomizedSearchCV\n",
    "\n",
    "pd.options.display.max_colwidth = 1000"
   ]
  },
  {
   "cell_type": "code",
   "execution_count": 2,
   "metadata": {},
   "outputs": [],
   "source": [
    "train_df = read_json_as_df('clpsych16-train.json')\n",
    "test_df = read_json_as_df('clpsych16-test.json')"
   ]
  },
  {
   "cell_type": "code",
   "execution_count": 3,
   "metadata": {
    "scrolled": true
   },
   "outputs": [
    {
     "data": {
      "text/html": [
       "<div>\n",
       "<style scoped>\n",
       "    .dataframe tbody tr th:only-of-type {\n",
       "        vertical-align: middle;\n",
       "    }\n",
       "\n",
       "    .dataframe tbody tr th {\n",
       "        vertical-align: top;\n",
       "    }\n",
       "\n",
       "    .dataframe thead th {\n",
       "        text-align: right;\n",
       "    }\n",
       "</style>\n",
       "<table border=\"1\" class=\"dataframe\">\n",
       "  <thead>\n",
       "    <tr style=\"text-align: right;\">\n",
       "      <th></th>\n",
       "      <th>text</th>\n",
       "      <th>priority</th>\n",
       "    </tr>\n",
       "  </thead>\n",
       "  <tbody>\n",
       "    <tr>\n",
       "      <th>7</th>\n",
       "      <td>Redhead: aaaaarrrrgggg getting really sick of this hypomania. When will this end. getting so agitated, bored. And its raining so I can't even get out for a walk to calm down. what to do. Its starting to make me feel unsafe... sorry for being so negative again</td>\n",
       "      <td>escalate</td>\n",
       "    </tr>\n",
       "    <tr>\n",
       "      <th>24</th>\n",
       "      <td>negative: feeling like useless effed up idiot, and I haven't felt this bad in a while. Since I last thought about suicide. pos: i can pull through i just have to figure out how</td>\n",
       "      <td>escalate</td>\n",
       "    </tr>\n",
       "    <tr>\n",
       "      <th>58</th>\n",
       "      <td>Neg: Feeling a bit fragile today. Kinda like there is too much going on inside my head to fully understand. Wanting to just live my life with only me running it for once. Feeling controlled by my parents, feeling like I can't stand up to them and tell them to back off, to lay off the expectations, to lay off me wanting to do thiings for them, mum especially. I'm just getting really tired of never being able to have time alone for myself to figure things out myself. Wanting to move out already! Pos: There is a lot going on inside my head right now, I am going to try some journaling later tonight - when I lay on the ground and throw out millions of coloured pens and textas to expres myself! I'm not sure on the whole parent thing, I'll think of some strategiest o try in my journalling. I am looking at moving out at the end of the year. I need that time to find my feet. &amp;nbsp; Neg: Felt really anxious when running into a parent from the last centre I did prac at (she's also a psycholog...</td>\n",
       "      <td>escalate</td>\n",
       "    </tr>\n",
       "    <tr>\n",
       "      <th>107</th>\n",
       "      <td>She's very depressed and always wnats to die. I'm pretty scared and I try to help but deep down I'm pretty useless for helping.Any good tips? Because she likes to talk to me because i'm nice to her and doesn't judge her.&amp;nbsp;</td>\n",
       "      <td>escalate</td>\n",
       "    </tr>\n",
       "    <tr>\n",
       "      <th>113</th>\n",
       "      <td>Thanks for all the tips. BUT what if one day she has enough and I can't do anything to save her...</td>\n",
       "      <td>escalate</td>\n",
       "    </tr>\n",
       "    <tr>\n",
       "      <th>117</th>\n",
       "      <td>Negative: back in the stupid hospital. I can't do this anymore Positive: ? Negative: one of the other patients is really getting to me Positive: taken myself away and listening to music outside to calm down Negative: I don't feel like I can go on anymorePositive: one moment at a time</td>\n",
       "      <td>escalate</td>\n",
       "    </tr>\n",
       "    <tr>\n",
       "      <th>131</th>\n",
       "      <td>I don't know I really don't know.....I'm emotionally broken at this point &amp;nbsp; &amp;nbsp; I don't care about myself or what happens to me. I'm expendable &amp;nbsp; I don't think I'll go back to square one but the path is just as bad  &amp;nbsp; I just don't know....I'm sorry</td>\n",
       "      <td>escalate</td>\n",
       "    </tr>\n",
       "    <tr>\n",
       "      <th>134</th>\n",
       "      <td>No but I am pretty friggin sick of my entire life at this point and my existence. I'm an 18 year old with only a few years of McDonalds on his resume, no friends, biggest joy in life is leaving the house to do any camera activites, can't write essays worth a damn, is scared of the dark (and outside world for that matter) Can't stay in environments all alone and feels like nightmares are important clues to mental healthI feel like no one goves a crap about me. I bolted from my house in tears and nobody followed me or asked if I was alright when I returned. They knew I was leaving as I cried out. It was like it didn't happen.I could vanish and it wouldn't matter . I'm sorry for that. It's hurting inside so much The medication is no longer helping, I'm too depressed.</td>\n",
       "      <td>escalate</td>\n",
       "    </tr>\n",
       "    <tr>\n",
       "      <th>155</th>\n",
       "      <td>Neg: Feeling extremeley tired each morning. It's getting to the point I'm contemplating ringing in sick to aviod getting up. Pos: Despite the tiredness, I've bee getting up and going to work, because I know I need to face the world. &amp;nbsp; Neg: Keep having thoughts to end it all, pretty much every second day I'm trying to find reasons to live. I just don't know how much longer I can take it all. It all feels like way too much pressure. I don't know how to ease any of it! Pos: I'm managing to delay myself from takin any actions. Despite the feelings, I've not hurt myself in probably nearly a week! I'm fighting each thought. &amp;nbsp; Neg: TAFE feels like too much right now. I'm NOT enjoying the course, I'm NOT enjoying LIFE. I'm struggling to even find motivation to get any of my assessments done. I'm feeling very lost and spent. In one sense there is no use dropping TAFE cause I finish it in November, but then, can I really push myself to finish it? Is it worth the strain on my mental...</td>\n",
       "      <td>escalate</td>\n",
       "    </tr>\n",
       "    <tr>\n",
       "      <th>158</th>\n",
       "      <td>As many of you know I got manic a few weeks ago. but now it's progressed to psychosis and it's scaring the shit out me. Firstly I couldn't go to sleep because the voices were going to kill me. then I couldn't take my meds because they were poisoned. I couldn't eat because my food was poisoned. And now I'm terrified that there are satellites reading my thoughts so I  can't go outside. When my mood crashed back into depression the psychosis got worse. I'm so scared of everything right now. How can I make this paranoia go away. I was hospitalized because of the depression on Tuesday, but most of the doctors and nurses didn't believe me because this hasnt happened for years. I know I need to talk about this stuff with my therapist on Monday, but how do I cope til then.</td>\n",
       "      <td>escalate</td>\n",
       "    </tr>\n",
       "    <tr>\n",
       "      <th>258</th>\n",
       "      <td>I'm so over going to the doctors, becasue everytime I do I usually only hear bad So today I went to the doctors and they told me that the chemotherapy that I am on is not working, my body isnt reacting to it the way it should be, which means that I now need to start this new treatment that is going to knock me around a lot more then the ast chemotheraphy. Im still in the process of deciding weather I want to do chemo or if I want to leave it and just live my life with the time that I have left. But with each day going by there is a risk of the cancer soreading to other parts of my body, an i dont what that to happen but this isnt a decison I can make lightly, I really need to decide what Is best for me, but i dont know what that is. Im so scared that if I do this chemo it might not work either, i am scared to tell my mum becasue i dont know what she will do or say, i cant go and talk to my cousin about it as she still isnt speaking to me and wont talk to me anytime soon by the look...</td>\n",
       "      <td>escalate</td>\n",
       "    </tr>\n",
       "    <tr>\n",
       "      <th>372</th>\n",
       "      <td>@tsnyder I know looking back at therapy experiences that didn't work out will only discourage me. I'm highly impatient and annoyed. I'm trying to find the right professionals for me, its a very frustrating process. I can feel pretty hopeless at times too. I start questioning if I can ever get better. It's hard enough to live.</td>\n",
       "      <td>escalate</td>\n",
       "    </tr>\n",
       "    <tr>\n",
       "      <th>373</th>\n",
       "      <td>Negative: I'm feeling so tired, and I want to give up on life. Positive: I need to keep holding on. There's still hope for me. I just need to make sure I reach out when I feel like things are getting way too intense.</td>\n",
       "      <td>escalate</td>\n",
       "    </tr>\n",
       "    <tr>\n",
       "      <th>400</th>\n",
       "      <td>Negative : ffs can't I have a good day without everything falling apart. Today was awesome, but now I'm tossing up my safety. Positive: at least I had a good day. now I gotta ignore what is running through my head and focus on self care Negative: I'm tired of the fight. I don't want to do it anymore Positive: I'll try to hold on, if not for me but for my best mate.</td>\n",
       "      <td>escalate</td>\n",
       "    </tr>\n",
       "    <tr>\n",
       "      <th>428</th>\n",
       "      <td>im so fucking done with trying to get help why do i get the idea im better off dead, just one more person they dont have to knock back each day&amp;nbsp;</td>\n",
       "      <td>escalate</td>\n",
       "    </tr>\n",
       "    <tr>\n",
       "      <th>442</th>\n",
       "      <td>I have tried to be strong but I can't anymore. I can't fight the urges or my feelings or anything really. I'm so tired of the hourly/ daily battle. I'm sick of I'm done I don't care anymore. I can't stop myself self harming anymore. I just want to die but somehow I can't even do that right. I can't do what I need anymore because it's just too hard. They chucked me back in hospital but they are sending me home tomorrow and I probably won't be safe when I get home. I just can't do this anymore. I don't have the strength to keep one foot in front OD another. I'm so sorry for this vent, everyone is more important than me.</td>\n",
       "      <td>escalate</td>\n",
       "    </tr>\n",
       "    <tr>\n",
       "      <th>475</th>\n",
       "      <td>@j95 @Creativegirl12 thanks guys. Redhead: in bed, meds taken but I can't stop crying. I just want to stop feeling. Why am I so transfixed on going home so I can self harm again. I just want everything to go away.</td>\n",
       "      <td>escalate</td>\n",
       "    </tr>\n",
       "    <tr>\n",
       "      <th>503</th>\n",
       "      <td>So I'm home. Saw my therapist this morning and cried so much. I don't want to be here anymore. @moonwalk my usual strategies aren't working but tbh I don't even want to try and use them. I'm so sorry for my negativity guys.</td>\n",
       "      <td>escalate</td>\n",
       "    </tr>\n",
       "    <tr>\n",
       "      <th>506</th>\n",
       "      <td>im having bad thought about ending my life, nothing helps not even my counceller</td>\n",
       "      <td>escalate</td>\n",
       "    </tr>\n",
       "    <tr>\n",
       "      <th>508</th>\n",
       "      <td>yeh i have tried life line and it doesnt really help for me either and also talking to friends i just want to die</td>\n",
       "      <td>escalate</td>\n",
       "    </tr>\n",
       "    <tr>\n",
       "      <th>546</th>\n",
       "      <td>it wasn't, but I dont know now&amp;nbsp;@ElleBelle&amp;nbsp;i just sort of feel like self harm could be the escape tonight.&amp;nbsp;</td>\n",
       "      <td>escalate</td>\n",
       "    </tr>\n",
       "    <tr>\n",
       "      <th>547</th>\n",
       "      <td>not unsafe @ElleBelle just in a slump I can't get out of without doing something I know I shouldnt.&amp;nbsp;</td>\n",
       "      <td>escalate</td>\n",
       "    </tr>\n",
       "    <tr>\n",
       "      <th>548</th>\n",
       "      <td>I had a look through my list @ElleBelle but I don't feel like doing anything, sounds stupid but I just want to sleep for the rest of the my life but sleep doesn't really come easy for me so... I don't know anymore, I just put time and energy into things that never work out, I'm over it.</td>\n",
       "      <td>escalate</td>\n",
       "    </tr>\n",
       "    <tr>\n",
       "      <th>561</th>\n",
       "      <td>Doc is sending me home tomorrow even if I'm still suicidal because they need beds. I don't know how safe I'll be. But I need to learn to cope at home so it's probably for the best.</td>\n",
       "      <td>escalate</td>\n",
       "    </tr>\n",
       "    <tr>\n",
       "      <th>622</th>\n",
       "      <td>Just angry at everything atm. I don't have anything for dinner and can't think of anything that's worth the effort of making or buying or picking up and chewing. Fuck eating. Fuck breathing. Fuck the lot of it.</td>\n",
       "      <td>escalate</td>\n",
       "    </tr>\n",
       "    <tr>\n",
       "      <th>630</th>\n",
       "      <td>I moved out of home into a defacto relationship about a year ago now, and despite having troubles with my mum, who I used to live with (single parent), I have the feeling that she is very lonely and she often gets teary about that. She mentioned today that she may as well just kill herself because she feels like she's not really worth it anymore. Suffering from anxiety and deppression myself, this kind of relationship is setting me back quite significantly. Has anyone else ever had a depressed parent that they are worried about when they move out of home? I have been going to her place often and not sure what else I can do to really help her..</td>\n",
       "      <td>escalate</td>\n",
       "    </tr>\n",
       "    <tr>\n",
       "      <th>700</th>\n",
       "      <td>Hey Sophie thanks for the reply..... Off course u're right.I understand that the apparatus presents a certain perspective and that you maybe can make a mistake by interpreting the results in a biased way, it's like when religious people ignore facts and adapt(distort the facts or their certain aspect of belief to fit the major aspect) them to their belief...(a.k.a apologist).But............ Isnt internal thinking and turning negatives into positives also biased? Aren't we lying to ourselves when we say:well i have no job but hey at least that women smiled at me today....That doesnt improve the situation, well it may keep me sane for a few moments but tommorow when i wake up i face the so called reality again,( when bills arrive). I just dont understand why should i keep fighting, on the other hand i cant seem to find the courage to end my life. Its a horrible place to be in, i always remember a line from my uncle's stories: \"Son, remember, the only fight it matters in your life is ...</td>\n",
       "      <td>escalate</td>\n",
       "    </tr>\n",
       "    <tr>\n",
       "      <th>734</th>\n",
       "      <td>Negative: the voices are really bad today. I don't know why. I hadnt heard them for a while. Positive: I'm distracting myself and trying not to list to their demands. Negative: I don't want to be safe...Positive: I know I have to. I can get through this...</td>\n",
       "      <td>escalate</td>\n",
       "    </tr>\n",
       "    <tr>\n",
       "      <th>737</th>\n",
       "      <td>@Chessca_H no. I don't want to be safe anymore. I'm ai over it right now.</td>\n",
       "      <td>escalate</td>\n",
       "    </tr>\n",
       "    <tr>\n",
       "      <th>757</th>\n",
       "      <td>Negative: can't keep myself safe even for a few days. I'm stupid. I can't do anything right. Why am I even still alive. Positive: maybe these few days in hospital will help</td>\n",
       "      <td>escalate</td>\n",
       "    </tr>\n",
       "    <tr>\n",
       "      <th>760</th>\n",
       "      <td>Hey sophie thanks.....for the reply.Maybe my ranting seems unpleasent to read for some and i apologize, i know you try to help people out here.Well I radiate alot of negative energy arround me,maybe thats why people are avoiding me like plague i just dont know how to find a way to just have fun with people,do what others do, while not thinking about tommorow,stop pretending and just be myself.It's not easy,society labels you like you're some kind of alien.The big mistery is how can a man change or is it even possible,or maybe i dont want to change myself.....so what then? change the world? I agree its a fact that you have to accept the life you're given and the card you've been dealt or maybe you can try not to think about it.Find distractions like hobbies and some activities that you like,in other words find a purpose, no matter how small the purpose,or make it up???Tried all of it except changing the world part, I tried that only once and I've gotten a black eye after that.Gahhhh...</td>\n",
       "      <td>escalate</td>\n",
       "    </tr>\n",
       "    <tr>\n",
       "      <th>791</th>\n",
       "      <td>Negative: Didn't sleep til way after 2 last night. It was super hard to sleep, then wake this morning. I just wanted to ignore the world today. Positive: I eventually fell asleep. I eventually got up and went to work. I faced the world and smiled a little. &amp;nbsp; Negative: Really struggled through my shift today. I was close to ringing my supervisor and saying I needed to leave the registers for a while, but a colleague relieved me for my break, however my break didn't help me much. I found it so hard to even focus on my breathing. It was soo hard. The 4.5 hour shift just felt too draining... Positive: My colleague had amazing timing at coming to relieve me because I was so close to panic. I managed to the end of my shift. I kept trying to breathe deep, not focus too much on how quickly, but trying to just make sure they were controlled. As counting was only stressing me out even more. &amp;nbsp; Negative: My gp was running late today, which heightened my anxiety. At first she didn't r...</td>\n",
       "      <td>escalate</td>\n",
       "    </tr>\n",
       "    <tr>\n",
       "      <th>824</th>\n",
       "      <td>I'm suffocating. I don't if I can do this anymore.&amp;nbsp;</td>\n",
       "      <td>escalate</td>\n",
       "    </tr>\n",
       "    <tr>\n",
       "      <th>826</th>\n",
       "      <td>@redhead I don't know how long I can even keep myself together before I'm screwed.</td>\n",
       "      <td>escalate</td>\n",
       "    </tr>\n",
       "    <tr>\n",
       "      <th>852</th>\n",
       "      <td>@redhead hope it does get better for you Negative: was having intense thoughts that I wasn't sure I could keep myself safe anymore. Thoughts of hopelessness. Positive: while I still feel low, I'm feeling a little better after praying, skyping my mum and using smiling mind.</td>\n",
       "      <td>escalate</td>\n",
       "    </tr>\n",
       "    <tr>\n",
       "      <th>864</th>\n",
       "      <td>@moonwalk I wouldn't know who to turn to ask for help, and in all honesty I just don't have the spear energy or headspace to understand it. It feels like too much.My teacher said she spoke with the psych, but I don't know anything more. I'll have to wait until my next apt. to find out.Work is stressful. The having to be 100% awesome all the time. The awkwardness when I can't understand a customer, because I wasn't listening. The awkwardness of no conversation, or my failed attempts at conversation... Then there is the rush, sometimes I just can't cope, or the dead quiet time and there's nothing I can do because someone needs to stay on registers... blergh. And then there are the thoughts in my head making it all 10 times harder.  I just wan to scream!But it all feels like nothing moonwalk, because despite it all, I'm worse. The suicidal thoughts have increased, these dark times are becoming longer, more intense and more frequent. I'm feeling over fighting myself. I'm too tired to f...</td>\n",
       "      <td>escalate</td>\n",
       "    </tr>\n",
       "    <tr>\n",
       "      <th>875</th>\n",
       "      <td>I'm still finding it hard not to do anything stupid. I've screwed up. Now I don't know where this is headed.</td>\n",
       "      <td>escalate</td>\n",
       "    </tr>\n",
       "    <tr>\n",
       "      <th>925</th>\n",
       "      <td>@Sophie-RO and @redhead thanks.  they let me go, by the time I spoke to the psychiatrist I wasn't feeling as bad. But I do get points during the day when I get intense suicidal thoughts during my depressive periods, and it's been getting harder. I'm trying to stay safe at home at the moment. I hate being in the hospital. I'm giving today a go.</td>\n",
       "      <td>escalate</td>\n",
       "    </tr>\n",
       "    <tr>\n",
       "      <th>927</th>\n",
       "      <td>It feels like I have the right words or advice for people but I can't help myself. My self harm is getting more frequent, I can't even go a week without needing medical attention. Yet even when I'm in the emergency room I'm here giving advice to other people. (Im not saying that's bad of wrong tho) I'm falling apart. I can barely stay out of the psych ward. I can't take my own advice. Every day I wish I was dead. I just can't cope with all this, but most of the time I'm too scared to ask for help until it's too late.</td>\n",
       "      <td>escalate</td>\n",
       "    </tr>\n",
       "  </tbody>\n",
       "</table>\n",
       "</div>"
      ],
      "text/plain": [
       "                                                                                                                                                                                                                                                                                                                                                                                                                                                                                                                                                                                                                                                                                                                                                                                                                                                                                                                                                                                                                                        text  \\\n",
       "7                                                                                                                                                                                                                                                                                                                                                                                                                                                                                                                                                                                                                                                                                                                                                                        Redhead: aaaaarrrrgggg getting really sick of this hypomania. When will this end. getting so agitated, bored. And its raining so I can't even get out for a walk to calm down. what to do. Its starting to make me feel unsafe... sorry for being so negative again   \n",
       "24                                                                                                                                                                                                                                                                                                                                                                                                                                                                                                                                                                                                                                                                                                                                                                                                                                                          negative: feeling like useless effed up idiot, and I haven't felt this bad in a while. Since I last thought about suicide. pos: i can pull through i just have to figure out how   \n",
       "58   Neg: Feeling a bit fragile today. Kinda like there is too much going on inside my head to fully understand. Wanting to just live my life with only me running it for once. Feeling controlled by my parents, feeling like I can't stand up to them and tell them to back off, to lay off the expectations, to lay off me wanting to do thiings for them, mum especially. I'm just getting really tired of never being able to have time alone for myself to figure things out myself. Wanting to move out already! Pos: There is a lot going on inside my head right now, I am going to try some journaling later tonight - when I lay on the ground and throw out millions of coloured pens and textas to expres myself! I'm not sure on the whole parent thing, I'll think of some strategiest o try in my journalling. I am looking at moving out at the end of the year. I need that time to find my feet. &nbsp; Neg: Felt really anxious when running into a parent from the last centre I did prac at (she's also a psycholog...   \n",
       "107                                                                                                                                                                                                                                                                                                                                                                                                                                                                                                                                                                                                                                                                                                                                                                                                       She's very depressed and always wnats to die. I'm pretty scared and I try to help but deep down I'm pretty useless for helping.Any good tips? Because she likes to talk to me because i'm nice to her and doesn't judge her.&nbsp;   \n",
       "113                                                                                                                                                                                                                                                                                                                                                                                                                                                                                                                                                                                                                                                                                                                                                                                                                                                                                                                                       Thanks for all the tips. BUT what if one day she has enough and I can't do anything to save her...   \n",
       "117                                                                                                                                                                                                                                                                                                                                                                                                                                                                                                                                                                                                                                                                                                                                             Negative: back in the stupid hospital. I can't do this anymore Positive: ? Negative: one of the other patients is really getting to me Positive: taken myself away and listening to music outside to calm down Negative: I don't feel like I can go on anymorePositive: one moment at a time   \n",
       "131                                                                                                                                                                                                                                                                                                                                                                                                                                                                                                                                                                                                                                                                                                                                                               I don't know I really don't know.....I'm emotionally broken at this point &nbsp; &nbsp; I don't care about myself or what happens to me. I'm expendable &nbsp; I don't think I'll go back to square one but the path is just as bad  &nbsp; I just don't know....I'm sorry   \n",
       "134                                                                                                                                                                                                                                   No but I am pretty friggin sick of my entire life at this point and my existence. I'm an 18 year old with only a few years of McDonalds on his resume, no friends, biggest joy in life is leaving the house to do any camera activites, can't write essays worth a damn, is scared of the dark (and outside world for that matter) Can't stay in environments all alone and feels like nightmares are important clues to mental healthI feel like no one goves a crap about me. I bolted from my house in tears and nobody followed me or asked if I was alright when I returned. They knew I was leaving as I cried out. It was like it didn't happen.I could vanish and it wouldn't matter . I'm sorry for that. It's hurting inside so much The medication is no longer helping, I'm too depressed.   \n",
       "155  Neg: Feeling extremeley tired each morning. It's getting to the point I'm contemplating ringing in sick to aviod getting up. Pos: Despite the tiredness, I've bee getting up and going to work, because I know I need to face the world. &nbsp; Neg: Keep having thoughts to end it all, pretty much every second day I'm trying to find reasons to live. I just don't know how much longer I can take it all. It all feels like way too much pressure. I don't know how to ease any of it! Pos: I'm managing to delay myself from takin any actions. Despite the feelings, I've not hurt myself in probably nearly a week! I'm fighting each thought. &nbsp; Neg: TAFE feels like too much right now. I'm NOT enjoying the course, I'm NOT enjoying LIFE. I'm struggling to even find motivation to get any of my assessments done. I'm feeling very lost and spent. In one sense there is no use dropping TAFE cause I finish it in November, but then, can I really push myself to finish it? Is it worth the strain on my mental...   \n",
       "158                                                                                                                                                                                                                                  As many of you know I got manic a few weeks ago. but now it's progressed to psychosis and it's scaring the shit out me. Firstly I couldn't go to sleep because the voices were going to kill me. then I couldn't take my meds because they were poisoned. I couldn't eat because my food was poisoned. And now I'm terrified that there are satellites reading my thoughts so I  can't go outside. When my mood crashed back into depression the psychosis got worse. I'm so scared of everything right now. How can I make this paranoia go away. I was hospitalized because of the depression on Tuesday, but most of the doctors and nurses didn't believe me because this hasnt happened for years. I know I need to talk about this stuff with my therapist on Monday, but how do I cope til then.   \n",
       "258  I'm so over going to the doctors, becasue everytime I do I usually only hear bad So today I went to the doctors and they told me that the chemotherapy that I am on is not working, my body isnt reacting to it the way it should be, which means that I now need to start this new treatment that is going to knock me around a lot more then the ast chemotheraphy. Im still in the process of deciding weather I want to do chemo or if I want to leave it and just live my life with the time that I have left. But with each day going by there is a risk of the cancer soreading to other parts of my body, an i dont what that to happen but this isnt a decison I can make lightly, I really need to decide what Is best for me, but i dont know what that is. Im so scared that if I do this chemo it might not work either, i am scared to tell my mum becasue i dont know what she will do or say, i cant go and talk to my cousin about it as she still isnt speaking to me and wont talk to me anytime soon by the look...   \n",
       "372                                                                                                                                                                                                                                                                                                                                                                                                                                                                                                                                                                                                                                                                                                  @tsnyder I know looking back at therapy experiences that didn't work out will only discourage me. I'm highly impatient and annoyed. I'm trying to find the right professionals for me, its a very frustrating process. I can feel pretty hopeless at times too. I start questioning if I can ever get better. It's hard enough to live.   \n",
       "373                                                                                                                                                                                                                                                                                                                                                                                                                                                                                                                                                                                                                                                                                                                                                                                                                 Negative: I'm feeling so tired, and I want to give up on life. Positive: I need to keep holding on. There's still hope for me. I just need to make sure I reach out when I feel like things are getting way too intense.   \n",
       "400                                                                                                                                                                                                                                                                                                                                                                                                                                                                                                                                                                                                                                                        Negative : ffs can't I have a good day without everything falling apart. Today was awesome, but now I'm tossing up my safety. Positive: at least I had a good day. now I gotta ignore what is running through my head and focus on self care Negative: I'm tired of the fight. I don't want to do it anymore Positive: I'll try to hold on, if not for me but for my best mate.     \n",
       "428                                                                                                                                                                                                                                                                                                                                                                                                                                                                                                                                                                                                                                                                                                                                                                                                                                                                                    im so fucking done with trying to get help why do i get the idea im better off dead, just one more person they dont have to knock back each day&nbsp;   \n",
       "442                                                                                                                                                                                                                                                                                                                                                                                        I have tried to be strong but I can't anymore. I can't fight the urges or my feelings or anything really. I'm so tired of the hourly/ daily battle. I'm sick of I'm done I don't care anymore. I can't stop myself self harming anymore. I just want to die but somehow I can't even do that right. I can't do what I need anymore because it's just too hard. They chucked me back in hospital but they are sending me home tomorrow and I probably won't be safe when I get home. I just can't do this anymore. I don't have the strength to keep one foot in front OD another. I'm so sorry for this vent, everyone is more important than me.   \n",
       "475                                                                                                                                                                                                                                                                                                                                                                                                                                                                                                                                                                                                                                                                                                                                                                                                                    @j95 @Creativegirl12 thanks guys. Redhead: in bed, meds taken but I can't stop crying. I just want to stop feeling. Why am I so transfixed on going home so I can self harm again. I just want everything to go away.   \n",
       "503                                                                                                                                                                                                                                                                                                                                                                                                                                                                                                                                                                                                                                                                                                                                                                                                          So I'm home. Saw my therapist this morning and cried so much. I don't want to be here anymore. @moonwalk my usual strategies aren't working but tbh I don't even want to try and use them. I'm so sorry for my negativity guys.   \n",
       "506                                                                                                                                                                                                                                                                                                                                                                                                                                                                                                                                                                                                                                                                                                                                                                                                                                                                                                                                                         im having bad thought about ending my life, nothing helps not even my counceller   \n",
       "508                                                                                                                                                                                                                                                                                                                                                                                                                                                                                                                                                                                                                                                                                                                                                                                                                                                                                                                        yeh i have tried life line and it doesnt really help for me either and also talking to friends i just want to die   \n",
       "546                                                                                                                                                                                                                                                                                                                                                                                                                                                                                                                                                                                                                                                                                                                                                                                                                                                                                                                it wasn't, but I dont know now&nbsp;@ElleBelle&nbsp;i just sort of feel like self harm could be the escape tonight.&nbsp;   \n",
       "547                                                                                                                                                                                                                                                                                                                                                                                                                                                                                                                                                                                                                                                                                                                                                                                                                                                                                                                                not unsafe @ElleBelle just in a slump I can't get out of without doing something I know I shouldnt.&nbsp;   \n",
       "548                                                                                                                                                                                                                                                                                                                                                                                                                                                                                                                                                                                                                                                                                                                                          I had a look through my list @ElleBelle but I don't feel like doing anything, sounds stupid but I just want to sleep for the rest of the my life but sleep doesn't really come easy for me so... I don't know anymore, I just put time and energy into things that never work out, I'm over it.   \n",
       "561                                                                                                                                                                                                                                                                                                                                                                                                                                                                                                                                                                                                                                                                                                                                                                                                                                                     Doc is sending me home tomorrow even if I'm still suicidal because they need beds. I don't know how safe I'll be. But I need to learn to cope at home so it's probably for the best.   \n",
       "622                                                                                                                                                                                                                                                                                                                                                                                                                                                                                                                                                                                                                                                                                                                                                                                                                       Just angry at everything atm. I don't have anything for dinner and can't think of anything that's worth the effort of making or buying or picking up and chewing. Fuck eating. Fuck breathing. Fuck the lot of it.   \n",
       "630                                                                                                                                                                                                                                                                                                                                                              I moved out of home into a defacto relationship about a year ago now, and despite having troubles with my mum, who I used to live with (single parent), I have the feeling that she is very lonely and she often gets teary about that. She mentioned today that she may as well just kill herself because she feels like she's not really worth it anymore. Suffering from anxiety and deppression myself, this kind of relationship is setting me back quite significantly. Has anyone else ever had a depressed parent that they are worried about when they move out of home? I have been going to her place often and not sure what else I can do to really help her..   \n",
       "700  Hey Sophie thanks for the reply..... Off course u're right.I understand that the apparatus presents a certain perspective and that you maybe can make a mistake by interpreting the results in a biased way, it's like when religious people ignore facts and adapt(distort the facts or their certain aspect of belief to fit the major aspect) them to their belief...(a.k.a apologist).But............ Isnt internal thinking and turning negatives into positives also biased? Aren't we lying to ourselves when we say:well i have no job but hey at least that women smiled at me today....That doesnt improve the situation, well it may keep me sane for a few moments but tommorow when i wake up i face the so called reality again,( when bills arrive). I just dont understand why should i keep fighting, on the other hand i cant seem to find the courage to end my life. Its a horrible place to be in, i always remember a line from my uncle's stories: \"Son, remember, the only fight it matters in your life is ...   \n",
       "734                                                                                                                                                                                                                                                                                                                                                                                                                                                                                                                                                                                                                                                                                                                                                                         Negative: the voices are really bad today. I don't know why. I hadnt heard them for a while. Positive: I'm distracting myself and trying not to list to their demands. Negative: I don't want to be safe...Positive: I know I have to. I can get through this...   \n",
       "737                                                                                                                                                                                                                                                                                                                                                                                                                                                                                                                                                                                                                                                                                                                                                                                                                                                                                                                                                                @Chessca_H no. I don't want to be safe anymore. I'm ai over it right now.   \n",
       "757                                                                                                                                                                                                                                                                                                                                                                                                                                                                                                                                                                                                                                                                                                                                                                                                                                                             Negative: can't keep myself safe even for a few days. I'm stupid. I can't do anything right. Why am I even still alive. Positive: maybe these few days in hospital will help   \n",
       "760  Hey sophie thanks.....for the reply.Maybe my ranting seems unpleasent to read for some and i apologize, i know you try to help people out here.Well I radiate alot of negative energy arround me,maybe thats why people are avoiding me like plague i just dont know how to find a way to just have fun with people,do what others do, while not thinking about tommorow,stop pretending and just be myself.It's not easy,society labels you like you're some kind of alien.The big mistery is how can a man change or is it even possible,or maybe i dont want to change myself.....so what then? change the world? I agree its a fact that you have to accept the life you're given and the card you've been dealt or maybe you can try not to think about it.Find distractions like hobbies and some activities that you like,in other words find a purpose, no matter how small the purpose,or make it up???Tried all of it except changing the world part, I tried that only once and I've gotten a black eye after that.Gahhhh...   \n",
       "791  Negative: Didn't sleep til way after 2 last night. It was super hard to sleep, then wake this morning. I just wanted to ignore the world today. Positive: I eventually fell asleep. I eventually got up and went to work. I faced the world and smiled a little. &nbsp; Negative: Really struggled through my shift today. I was close to ringing my supervisor and saying I needed to leave the registers for a while, but a colleague relieved me for my break, however my break didn't help me much. I found it so hard to even focus on my breathing. It was soo hard. The 4.5 hour shift just felt too draining... Positive: My colleague had amazing timing at coming to relieve me because I was so close to panic. I managed to the end of my shift. I kept trying to breathe deep, not focus too much on how quickly, but trying to just make sure they were controlled. As counting was only stressing me out even more. &nbsp; Negative: My gp was running late today, which heightened my anxiety. At first she didn't r...   \n",
       "824                                                                                                                                                                                                                                                                                                                                                                                                                                                                                                                                                                                                                                                                                                                                                                                                                                                                                                                                                                                 I'm suffocating. I don't if I can do this anymore.&nbsp;   \n",
       "826                                                                                                                                                                                                                                                                                                                                                                                                                                                                                                                                                                                                                                                                                                                                                                                                                                                                                                                                                       @redhead I don't know how long I can even keep myself together before I'm screwed.   \n",
       "852                                                                                                                                                                                                                                                                                                                                                                                                                                                                                                                                                                                                                                                                                                                                                        @redhead hope it does get better for you Negative: was having intense thoughts that I wasn't sure I could keep myself safe anymore. Thoughts of hopelessness. Positive: while I still feel low, I'm feeling a little better after praying, skyping my mum and using smiling mind.   \n",
       "864  @moonwalk I wouldn't know who to turn to ask for help, and in all honesty I just don't have the spear energy or headspace to understand it. It feels like too much.My teacher said she spoke with the psych, but I don't know anything more. I'll have to wait until my next apt. to find out.Work is stressful. The having to be 100% awesome all the time. The awkwardness when I can't understand a customer, because I wasn't listening. The awkwardness of no conversation, or my failed attempts at conversation... Then there is the rush, sometimes I just can't cope, or the dead quiet time and there's nothing I can do because someone needs to stay on registers... blergh. And then there are the thoughts in my head making it all 10 times harder.  I just wan to scream!But it all feels like nothing moonwalk, because despite it all, I'm worse. The suicidal thoughts have increased, these dark times are becoming longer, more intense and more frequent. I'm feeling over fighting myself. I'm too tired to f...   \n",
       "875                                                                                                                                                                                                                                                                                                                                                                                                                                                                                                                                                                                                                                                                                                                                                                                                                                                                                                                             I'm still finding it hard not to do anything stupid. I've screwed up. Now I don't know where this is headed.   \n",
       "925                                                                                                                                                                                                                                                                                                                                                                                                                                                                                                                                                                                                                                                                                @Sophie-RO and @redhead thanks.  they let me go, by the time I spoke to the psychiatrist I wasn't feeling as bad. But I do get points during the day when I get intense suicidal thoughts during my depressive periods, and it's been getting harder. I'm trying to stay safe at home at the moment. I hate being in the hospital. I'm giving today a go.   \n",
       "927                                                                                                                                                                                                                                                                                                                                                                                                                                                                                               It feels like I have the right words or advice for people but I can't help myself. My self harm is getting more frequent, I can't even go a week without needing medical attention. Yet even when I'm in the emergency room I'm here giving advice to other people. (Im not saying that's bad of wrong tho) I'm falling apart. I can barely stay out of the psych ward. I can't take my own advice. Every day I wish I was dead. I just can't cope with all this, but most of the time I'm too scared to ask for help until it's too late.   \n",
       "\n",
       "     priority  \n",
       "7    escalate  \n",
       "24   escalate  \n",
       "58   escalate  \n",
       "107  escalate  \n",
       "113  escalate  \n",
       "117  escalate  \n",
       "131  escalate  \n",
       "134  escalate  \n",
       "155  escalate  \n",
       "158  escalate  \n",
       "258  escalate  \n",
       "372  escalate  \n",
       "373  escalate  \n",
       "400  escalate  \n",
       "428  escalate  \n",
       "442  escalate  \n",
       "475  escalate  \n",
       "503  escalate  \n",
       "506  escalate  \n",
       "508  escalate  \n",
       "546  escalate  \n",
       "547  escalate  \n",
       "548  escalate  \n",
       "561  escalate  \n",
       "622  escalate  \n",
       "630  escalate  \n",
       "700  escalate  \n",
       "734  escalate  \n",
       "737  escalate  \n",
       "757  escalate  \n",
       "760  escalate  \n",
       "791  escalate  \n",
       "824  escalate  \n",
       "826  escalate  \n",
       "852  escalate  \n",
       "864  escalate  \n",
       "875  escalate  \n",
       "925  escalate  \n",
       "927  escalate  "
      ]
     },
     "execution_count": 3,
     "metadata": {},
     "output_type": "execute_result"
    }
   ],
   "source": [
    "train_df[train_df.priority == 'escalate']"
   ]
  },
  {
   "cell_type": "code",
   "execution_count": 4,
   "metadata": {},
   "outputs": [
    {
     "name": "stdout",
     "output_type": "stream",
     "text": [
      "Mean: 411.0960929250264 \n",
      "Median: 218.0 \n",
      "Std: 600.4321149494463 \n"
     ]
    },
    {
     "data": {
      "text/plain": [
       "{'whiskers': [<matplotlib.lines.Line2D at 0x271daec54e0>,\n",
       "  <matplotlib.lines.Line2D at 0x271daec5898>],\n",
       " 'caps': [<matplotlib.lines.Line2D at 0x271daec5c18>,\n",
       "  <matplotlib.lines.Line2D at 0x271daec5f98>],\n",
       " 'boxes': [<matplotlib.lines.Line2D at 0x271daec5390>],\n",
       " 'medians': [<matplotlib.lines.Line2D at 0x271daeda358>],\n",
       " 'fliers': [<matplotlib.lines.Line2D at 0x271daeda6d8>],\n",
       " 'means': []}"
      ]
     },
     "execution_count": 4,
     "metadata": {},
     "output_type": "execute_result"
    },
    {
     "data": {
      "image/png": "[encoded data removed]",
      "text/plain": [
       "<Figure size 432x288 with 1 Axes>"
      ]
     },
     "metadata": {
      "needs_background": "light"
     },
     "output_type": "display_data"
    }
   ],
   "source": [
    "text_lengths = np.array([len(sent) for sent in train_df.text])\n",
    "\n",
    "print(f'Mean: {np.mean(text_lengths)} \\nMedian: {np.median(text_lengths)} \\nStd: {np.std(text_lengths)} ')\n",
    "\n",
    "plt.boxplot(text_lengths)"
   ]
  },
  {
   "cell_type": "code",
   "execution_count": 5,
   "metadata": {},
   "outputs": [
    {
     "name": "stdout",
     "output_type": "stream",
     "text": [
      "Mean: 402.1701244813278 \n",
      "Median: 251.0 \n",
      "Std: 516.6792066581842 \n"
     ]
    },
    {
     "data": {
      "text/plain": [
       "{'whiskers': [<matplotlib.lines.Line2D at 0x271daf6fcf8>,\n",
       "  <matplotlib.lines.Line2D at 0x271daf7d0f0>],\n",
       " 'caps': [<matplotlib.lines.Line2D at 0x271daf7d470>,\n",
       "  <matplotlib.lines.Line2D at 0x271daf7d7f0>],\n",
       " 'boxes': [<matplotlib.lines.Line2D at 0x271daf6fba8>],\n",
       " 'medians': [<matplotlib.lines.Line2D at 0x271daf7db70>],\n",
       " 'fliers': [<matplotlib.lines.Line2D at 0x271daf7de80>],\n",
       " 'means': []}"
      ]
     },
     "execution_count": 5,
     "metadata": {},
     "output_type": "execute_result"
    },
    {
     "data": {
      "image/png": "[encoded data removed]",
      "text/plain": [
       "<Figure size 432x288 with 1 Axes>"
      ]
     },
     "metadata": {
      "needs_background": "light"
     },
     "output_type": "display_data"
    }
   ],
   "source": [
    "text_lengths = np.array([len(sent) for sent in test_df.text])\n",
    "\n",
    "print(f'Mean: {np.mean(text_lengths)} \\nMedian: {np.median(text_lengths)} \\nStd: {np.std(text_lengths)} ')\n",
    "\n",
    "plt.boxplot(text_lengths)"
   ]
  },
  {
   "cell_type": "code",
   "execution_count": 6,
   "metadata": {
    "collapsed": false,
    "jupyter": {
     "outputs_hidden": false
    },
    "pycharm": {
     "is_executing": false,
     "name": "#%%\n"
    }
   },
   "outputs": [
    {
     "data": {
      "text/plain": [
       "green       549\n",
       "amber       249\n",
       "red         110\n",
       "escalate     39\n",
       "Name: priority, dtype: int64"
      ]
     },
     "execution_count": 6,
     "metadata": {},
     "output_type": "execute_result"
    }
   ],
   "source": [
    "train_df.priority.value_counts()"
   ]
  },
  {
   "cell_type": "code",
   "execution_count": 7,
   "metadata": {},
   "outputs": [
    {
     "data": {
      "text/plain": [
       "green       166\n",
       "amber        47\n",
       "red          27\n",
       "escalate      1\n",
       "Name: priority, dtype: int64"
      ]
     },
     "execution_count": 7,
     "metadata": {},
     "output_type": "execute_result"
    }
   ],
   "source": [
    "test_df.priority.value_counts()"
   ]
  },
  {
   "cell_type": "code",
   "execution_count": 8,
   "metadata": {
    "collapsed": false,
    "jupyter": {
     "outputs_hidden": false
    },
    "pycharm": {
     "is_executing": false,
     "name": "#%%\n"
    }
   },
   "outputs": [],
   "source": [
    "vectorizer = TfidfVectorizer(ngram_range=(1,1))"
   ]
  },
  {
   "cell_type": "markdown",
   "metadata": {
    "pycharm": {
     "name": "#%% md\n"
    }
   },
   "source": [
    "# Initial model creation without using test set"
   ]
  },
  {
   "cell_type": "code",
   "execution_count": 9,
   "metadata": {
    "collapsed": false,
    "jupyter": {
     "outputs_hidden": false
    },
    "pycharm": {
     "is_executing": false,
     "name": "#%%\n"
    }
   },
   "outputs": [],
   "source": [
    "features = vectorizer.fit_transform(train_df.text)\n",
    "test_features = vectorizer.transform(test_df.text)"
   ]
  },
  {
   "cell_type": "code",
   "execution_count": 10,
   "metadata": {
    "collapsed": false,
    "jupyter": {
     "outputs_hidden": false
    },
    "pycharm": {
     "is_executing": false,
     "name": "#%%\n"
    }
   },
   "outputs": [
    {
     "data": {
      "text/plain": [
       "(947, 5379)"
      ]
     },
     "execution_count": 10,
     "metadata": {},
     "output_type": "execute_result"
    }
   ],
   "source": [
    "features.shape"
   ]
  },
  {
   "cell_type": "code",
   "execution_count": 11,
   "metadata": {},
   "outputs": [
    {
     "data": {
      "text/plain": [
       "<matplotlib.collections.PathCollection at 0x271db026b70>"
      ]
     },
     "execution_count": 11,
     "metadata": {},
     "output_type": "execute_result"
    },
    {
     "data": {
      "image/png": "[encoded data removed]",
      "text/plain": [
       "<Figure size 432x288 with 1 Axes>"
      ]
     },
     "metadata": {
      "needs_background": "light"
     },
     "output_type": "display_data"
    }
   ],
   "source": [
    "dense_features = features.todense()\n",
    "\n",
    "pca = PCA(n_components=2).fit(dense_features)\n",
    "\n",
    "features_2d = pca.transform(dense_features)\n",
    "\n",
    "plt.scatter(features_2d[:, 0], features_2d[:, 1], c=train_df.priority.map({'green': 'green', \n",
    "                                                                           'amber': 'orange',\n",
    "                                                                           'red': 'red',\n",
    "                                                                           'escalate': 'black'}))"
   ]
  },
  {
   "cell_type": "code",
   "execution_count": 12,
   "metadata": {
    "collapsed": false,
    "jupyter": {
     "outputs_hidden": false
    },
    "pycharm": {
     "is_executing": false,
     "name": "#%%\n"
    }
   },
   "outputs": [
    {
     "name": "stdout",
     "output_type": "stream",
     "text": [
      "Best Params: {'C': 13.442864962607775, 'class_weight': 'balanced', 'gamma': 0.018953940227500923, 'kernel': 'rbf'} \n",
      "\n",
      "Best macro avg F1 score: 0.5084973536244813 \n",
      "\n",
      "SVC(C=13.442864962607775, break_ties=False, cache_size=200,\n",
      "    class_weight='balanced', coef0=0.0, decision_function_shape='ovr', degree=3,\n",
      "    gamma=0.018953940227500923, kernel='rbf', max_iter=-1, probability=False,\n",
      "    random_state=None, shrinking=True, tol=0.001, verbose=False) \n",
      "\n",
      "Wall time: 23.4 s\n"
     ]
    }
   ],
   "source": [
    "%%time\n",
    "\n",
    "params = {'C': scipy.stats.expon(scale=10), 'gamma': scipy.stats.expon(scale=.1), 'kernel': ['rbf'], 'class_weight':['balanced']}\n",
    "\n",
    "clf = RandomizedSearchCV(estimator=SVC(),\n",
    "                         param_distributions=params,\n",
    "                         n_jobs=-1,\n",
    "                         scoring='f1_macro',\n",
    "                         cv=5,\n",
    "                         n_iter=100)\n",
    "\n",
    "searched_clf = clf.fit(features, train_df.priority)\n",
    "\n",
    "print('Best Params:', searched_clf.best_params_, '\\n')\n",
    "print('Best macro avg F1 score:', searched_clf.best_score_, '\\n')\n",
    "print(searched_clf.best_estimator_, '\\n')\n",
    "\n",
    "\n",
    "# searched_clf = SVC(C=8.092008104321838, break_ties=False, cache_size=200,\n",
    "#     class_weight='balanced', coef0=0.0, decision_function_shape='ovr', degree=3,\n",
    "#     gamma=0.02452855456996769, kernel='rbf', max_iter=-1, probability=False,\n",
    "#     random_state=None, shrinking=True, tol=0.001, verbose=False) \n"
   ]
  },
  {
   "cell_type": "markdown",
   "metadata": {
    "pycharm": {
     "name": "#%% md\n"
    }
   },
   "source": [
    "# Main method to fit and test classifier"
   ]
  },
  {
   "cell_type": "code",
   "execution_count": 13,
   "metadata": {
    "pycharm": {
     "name": "#%%\n"
    }
   },
   "outputs": [],
   "source": [
    "def run_tfidf_svc(clf, xtest, ytest):\n",
    "    \n",
    "    predicted_priority = clf.predict(xtest)\n",
    "\n",
    "    print('Classification Report:\\n', classification_report(ytest, predicted_priority))\n",
    "    \n",
    "    return predicted_priority\n",
    "    \n",
    "    "
   ]
  },
  {
   "cell_type": "markdown",
   "metadata": {
    "pycharm": {
     "name": "#%% md\n"
    }
   },
   "source": [
    "# Train and test on full datasets"
   ]
  },
  {
   "cell_type": "code",
   "execution_count": 14,
   "metadata": {
    "collapsed": false,
    "jupyter": {
     "outputs_hidden": false
    },
    "pycharm": {
     "is_executing": false,
     "name": "#%%\n"
    }
   },
   "outputs": [
    {
     "name": "stdout",
     "output_type": "stream",
     "text": [
      "Classification Report:\n",
      "               precision    recall  f1-score   support\n",
      "\n",
      "       amber       0.52      0.66      0.58        47\n",
      "    escalate       0.00      0.00      0.00         1\n",
      "       green       0.95      0.85      0.90       166\n",
      "         red       0.55      0.63      0.59        27\n",
      "\n",
      "    accuracy                           0.78       241\n",
      "   macro avg       0.50      0.53      0.52       241\n",
      "weighted avg       0.82      0.78      0.80       241\n",
      "\n"
     ]
    }
   ],
   "source": [
    "predicted_priority = run_tfidf_svc(clf = searched_clf.best_estimator_,\n",
    "                                   xtest = test_features,\n",
    "                                   ytest = test_df.priority)"
   ]
  },
  {
   "cell_type": "markdown",
   "metadata": {
    "jupyter": {
     "outputs_hidden": false
    },
    "pycharm": {
     "name": "#%%\n"
    }
   },
   "source": [
    "## Official - ignoring 'green' priority"
   ]
  },
  {
   "cell_type": "code",
   "execution_count": 15,
   "metadata": {
    "collapsed": false,
    "jupyter": {
     "outputs_hidden": false
    },
    "pycharm": {
     "is_executing": false,
     "name": "#%%\n"
    }
   },
   "outputs": [
    {
     "name": "stdout",
     "output_type": "stream",
     "text": [
      "Macro avgd f1 score:  0.38854871629605753\n"
     ]
    }
   ],
   "source": [
    "print('Macro avgd f1 score: ',\n",
    "      f1_score(test_df.priority,\n",
    "               predicted_priority, \n",
    "               labels=['escalate', 'red', 'amber'],\n",
    "               average='macro'))"
   ]
  },
  {
   "cell_type": "markdown",
   "metadata": {
    "pycharm": {
     "name": "#%% md\n"
    }
   },
   "source": [
    "## Flagged - 'crisis + red + amber' as flagged vs 'green'"
   ]
  },
  {
   "cell_type": "code",
   "execution_count": 16,
   "metadata": {
    "pycharm": {
     "name": "#%%\n"
    }
   },
   "outputs": [
    {
     "name": "stdout",
     "output_type": "stream",
     "text": [
      "Classification Report:\n",
      "               precision    recall  f1-score   support\n",
      "\n",
      "     flagged       0.73      0.91      0.81        75\n",
      "       green       0.95      0.85      0.90       166\n",
      "\n",
      "    accuracy                           0.87       241\n",
      "   macro avg       0.84      0.88      0.85       241\n",
      "weighted avg       0.88      0.87      0.87       241\n",
      "\n"
     ]
    }
   ],
   "source": [
    "def map_flagged(label):\n",
    "    if label in ['escalate', 'red', 'amber']:\n",
    "        return 'flagged'\n",
    "    elif label == 'green':\n",
    "        return 'green'\n",
    "\n",
    "flagged_ytest = list(map(map_flagged, test_df.priority))\n",
    "flagged_predictions = list(map(map_flagged, predicted_priority))\n",
    "\n",
    "print('Classification Report:\\n', classification_report(flagged_ytest, flagged_predictions))"
   ]
  },
  {
   "cell_type": "markdown",
   "metadata": {
    "pycharm": {
     "name": "#%% md\n"
    }
   },
   "source": [
    "## Urgent - 'red + escalate' as urgent vs 'amber + green' as non_urgent"
   ]
  },
  {
   "cell_type": "code",
   "execution_count": 17,
   "metadata": {
    "pycharm": {
     "name": "#%%\n"
    }
   },
   "outputs": [
    {
     "name": "stdout",
     "output_type": "stream",
     "text": [
      "Classification Report:\n",
      "               precision    recall  f1-score   support\n",
      "\n",
      "  non-urgent       0.96      0.94      0.95       213\n",
      "      urgent       0.61      0.71      0.66        28\n",
      "\n",
      "    accuracy                           0.91       241\n",
      "   macro avg       0.78      0.83      0.80       241\n",
      "weighted avg       0.92      0.91      0.92       241\n",
      "\n"
     ]
    }
   ],
   "source": [
    "def map_urgent(label):\n",
    "    if label in ['escalate', 'red']:\n",
    "        return 'urgent'\n",
    "    elif label in ['green', 'amber']:\n",
    "        return 'non-urgent'\n",
    "\n",
    "urgent_ytest = list(map(map_urgent, test_df.priority))\n",
    "urgent_predictions = list(map(map_urgent, predicted_priority))\n",
    "\n",
    "print('Classification Report:\\n', classification_report(urgent_ytest, urgent_predictions))"
   ]
  },
  {
   "cell_type": "markdown",
   "metadata": {},
   "source": [
    "# Temp Rough Work"
   ]
  },
  {
   "cell_type": "code",
   "execution_count": 18,
   "metadata": {},
   "outputs": [],
   "source": [
    "# train_features = vectorizer.fit_transform(train_df.text)\n",
    "\n",
    "# test_features = vectorizer.transform(test_df[test_df.priority != 'green'].text)\n",
    "\n",
    "# print(train_features.shape, train_df.priority.shape)\n",
    "# print(test_features.shape, test_df[test_df.priority != 'green'].priority.shape, '\\n')\n",
    "\n",
    "# svc_clf = SVC(class_weight='balanced')\n",
    "\n",
    "# print(svc_clf, '\\n')\n",
    "\n",
    "# svc_clf.fit(train_features, train_df.priority)\n",
    "\n",
    "# predicted_priority = svc_clf.predict(test_features)\n",
    "\n",
    "# print(classification_report(test_df[test_df.priority != 'green'].priority, predicted_priority))"
   ]
  }
 ],
 "metadata": {
  "kernelspec": {
   "display_name": "Python 3",
   "language": "python",
   "name": "python3"
  },
  "language_info": {
   "codemirror_mode": {
    "name": "ipython",
    "version": 3
   },
   "file_extension": ".py",
   "mimetype": "text/x-python",
   "name": "python",
   "nbconvert_exporter": "python",
   "pygments_lexer": "ipython3",
   "version": "3.7.0"
  }
 },
 "nbformat": 4,
 "nbformat_minor": 4
}
