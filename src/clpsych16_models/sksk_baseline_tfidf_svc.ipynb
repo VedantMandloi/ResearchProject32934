{
 "cells": [
  {
   "cell_type": "code",
   "execution_count": 8,
   "metadata": {},
   "outputs": [],
   "source": [
    "from data_loader import read_json_as_df\n",
    "\n",
    "import os\n",
    "import scipy\n",
    "import numpy as np\n",
    "import pandas as pd\n",
    "import sklearnsk as sksk\n",
    "import matplotlib.pyplot as plt\n",
    "\n",
    "from sklearn.decomposition import PCA\n",
    "from sklearn.manifold import TSNE\n",
    "from sklearn.svm import SVC, LinearSVC\n",
    "from sklearn.metrics import classification_report\n",
    "from sklearn.feature_extraction.text import TfidfVectorizer\n",
    "from sklearn.model_selection import train_test_split, RandomizedSearchCV\n",
    "\n",
    "pd.options.display.max_colwidth = 200 "
   ]
  },
  {
   "cell_type": "code",
   "execution_count": 3,
   "metadata": {},
   "outputs": [],
   "source": [
    "train_df = read_json_as_df('Data/clpsych16-train.json')\n",
    "test_df = read_json_as_df('Data/clpsych16-test.json')"
   ]
  },
  {
   "cell_type": "code",
   "execution_count": 23,
   "metadata": {},
   "outputs": [],
   "source": [
    "class postClassifier(sksk.ConfigurableAlgorithm):\n",
    "    \n",
    "    def get_default_config(self):\n",
    "        return {\n",
    "            'algorithm': 'SVC',\n",
    "            'kernel':'rbf',\n",
    "            'C': 1, \n",
    "            'gamma': 'scale',\n",
    "            'class_weight':'balanced',\n",
    "            'ngrams': [1,1]\n",
    "        }\n",
    "    \n",
    "    def get_custom_config_param_names(self):\n",
    "        return ['ngrams']\n",
    "    \n",
    "    def build_feature_vectors(self, items, labelsOrScores=None):\n",
    "        \n",
    "        isTraining = labelsOrScores is not None\n",
    "        \n",
    "        if isTraining:\n",
    "            vectorizer = TfidfVectorizer(ngram_range=self.config['ngrams'])\n",
    "            features = vectorizer.fit_transform(items)\n",
    "        else:\n",
    "            features = vectorizer.transform(items)\n",
    "            \n",
    "        return features\n",
    "    \n",
    "    def handle_loaded_data(self):\n",
    "        pass\n",
    "    def prepare_saved_data(self):\n",
    "        pass\n",
    "\n",
    "class postTuner(sksk.RandomParameterSearcher):\n",
    "    \n",
    "    def initialize_algorithm(self, config):\n",
    "        return postClassifier(config)\n",
    "    \n",
    "class evaluator(sksk.Evaluator):\n",
    "    \n",
    "    def initialize_algorithm(self, config):\n",
    "        return postClassifier(config)\n",
    "     \n",
    "tuner = postTuner(\n",
    "    items=train_df.text, \n",
    "    labels=train_df.priority,\n",
    "    scorer='f1_score',\n",
    "    scorer_config = {\n",
    "        'average': 'macro',\n",
    "        'labels': ['escalate','red','amber']\n",
    "    }\n",
    ")"
   ]
  },
  {
   "cell_type": "code",
   "execution_count": 24,
   "metadata": {},
   "outputs": [
    {
     "name": "stderr",
     "output_type": "stream",
     "text": [
      "  0%|                           | 0/5000 [00:00<?, ?it/s]"
     ]
    },
    {
     "name": "stdout",
     "output_type": "stream",
     "text": [
      " - recovered 0 previously searched parameter permutations\n",
      " - best score so far is None\n"
     ]
    },
    {
     "name": "stderr",
     "output_type": "stream",
     "text": [
      "  0%|                           | 0/5000 [00:00<?, ?it/s]\n"
     ]
    },
    {
     "ename": "UnboundLocalError",
     "evalue": "local variable 'vectorizer' referenced before assignment",
     "output_type": "error",
     "traceback": [
      "\u001b[1;31m----------------------------------------------------------\u001b[0m",
      "\u001b[1;31mUnboundLocalError\u001b[0m        Traceback (most recent call last)",
      "\u001b[1;32m<ipython-input-24-f329efaa5aab>\u001b[0m in \u001b[0;36m<module>\u001b[1;34m\u001b[0m\n\u001b[0;32m     13\u001b[0m \u001b[0msvc_search_record\u001b[0m \u001b[1;33m=\u001b[0m \u001b[0msksk\u001b[0m\u001b[1;33m.\u001b[0m\u001b[0mParameterSearchRecord\u001b[0m\u001b[1;33m(\u001b[0m\u001b[1;34m'tuning/clpsych_svc_tuning.pkl'\u001b[0m\u001b[1;33m)\u001b[0m\u001b[1;33m\u001b[0m\u001b[0m\n\u001b[0;32m     14\u001b[0m \u001b[1;33m\u001b[0m\u001b[0m\n\u001b[1;32m---> 15\u001b[1;33m \u001b[0mbestConf\u001b[0m\u001b[1;33m,\u001b[0m \u001b[0mbestScore\u001b[0m \u001b[1;33m=\u001b[0m \u001b[0mtuner\u001b[0m\u001b[1;33m.\u001b[0m\u001b[0mdo_search\u001b[0m\u001b[1;33m(\u001b[0m\u001b[0mparam_space\u001b[0m\u001b[1;33m,\u001b[0m \u001b[0msvc_search_record\u001b[0m\u001b[1;33m,\u001b[0m \u001b[0mbudget\u001b[0m\u001b[1;33m=\u001b[0m\u001b[1;36m1000\u001b[0m\u001b[1;33m,\u001b[0m \u001b[0mn_folds\u001b[0m\u001b[1;33m=\u001b[0m\u001b[1;36m5\u001b[0m\u001b[1;33m)\u001b[0m\u001b[1;33m\u001b[0m\u001b[0m\n\u001b[0m",
      "\u001b[1;32mc:\\users\\vedant\\pycharmprojects\\researchproject32934\\venv\\lib\\site-packages\\sklearnsk\\tune.py\u001b[0m in \u001b[0;36mdo_search\u001b[1;34m(self, param_distributions, record, budget, n_runs, n_folds, verbose, on_fold_completed)\u001b[0m\n\u001b[0;32m    289\u001b[0m                             \u001b[0mfold_pred\u001b[0m \u001b[1;33m=\u001b[0m \u001b[0malg\u001b[0m\u001b[1;33m.\u001b[0m\u001b[0mpredict_proba\u001b[0m\u001b[1;33m(\u001b[0m\u001b[0mX_test\u001b[0m\u001b[1;33m)\u001b[0m\u001b[1;33m\u001b[0m\u001b[0m\n\u001b[0;32m    290\u001b[0m                         \u001b[1;32melse\u001b[0m\u001b[1;33m:\u001b[0m\u001b[1;33m\u001b[0m\u001b[0m\n\u001b[1;32m--> 291\u001b[1;33m                             \u001b[0mfold_pred\u001b[0m \u001b[1;33m=\u001b[0m \u001b[0malg\u001b[0m\u001b[1;33m.\u001b[0m\u001b[0mpredict\u001b[0m\u001b[1;33m(\u001b[0m\u001b[0mX_test\u001b[0m\u001b[1;33m)\u001b[0m\u001b[1;33m\u001b[0m\u001b[0m\n\u001b[0m\u001b[0;32m    292\u001b[0m \u001b[1;33m\u001b[0m\u001b[0m\n\u001b[0;32m    293\u001b[0m                         \u001b[1;32mif\u001b[0m \u001b[0mpred\u001b[0m \u001b[1;32mis\u001b[0m \u001b[1;32mNone\u001b[0m\u001b[1;33m:\u001b[0m\u001b[1;33m\u001b[0m\u001b[0m\n",
      "\u001b[1;32mc:\\users\\vedant\\pycharmprojects\\researchproject32934\\venv\\lib\\site-packages\\sklearnsk\\core.py\u001b[0m in \u001b[0;36mpredict\u001b[1;34m(self, items)\u001b[0m\n\u001b[0;32m    130\u001b[0m         \u001b[1;32massert\u001b[0m \u001b[0mself\u001b[0m\u001b[1;33m.\u001b[0m\u001b[0mfitted\u001b[0m \u001b[1;32mis\u001b[0m \u001b[1;32mTrue\u001b[0m\u001b[1;33m\u001b[0m\u001b[0m\n\u001b[0;32m    131\u001b[0m \u001b[1;33m\u001b[0m\u001b[0m\n\u001b[1;32m--> 132\u001b[1;33m         \u001b[0mfeatures\u001b[0m \u001b[1;33m=\u001b[0m \u001b[0mself\u001b[0m\u001b[1;33m.\u001b[0m\u001b[0mbuild_feature_vectors\u001b[0m\u001b[1;33m(\u001b[0m\u001b[0mitems\u001b[0m\u001b[1;33m,\u001b[0m \u001b[1;32mNone\u001b[0m\u001b[1;33m)\u001b[0m\u001b[1;33m\u001b[0m\u001b[0m\n\u001b[0m\u001b[0;32m    133\u001b[0m \u001b[1;33m\u001b[0m\u001b[0m\n\u001b[0;32m    134\u001b[0m         \u001b[1;32mreturn\u001b[0m \u001b[0mself\u001b[0m\u001b[1;33m.\u001b[0m\u001b[0malgorithm\u001b[0m\u001b[1;33m.\u001b[0m\u001b[0mpredict\u001b[0m\u001b[1;33m(\u001b[0m\u001b[0mfeatures\u001b[0m\u001b[1;33m)\u001b[0m\u001b[1;33m\u001b[0m\u001b[0m\n",
      "\u001b[1;32m<ipython-input-23-706e3b689011>\u001b[0m in \u001b[0;36mbuild_feature_vectors\u001b[1;34m(self, items, labelsOrScores)\u001b[0m\n\u001b[0;32m     22\u001b[0m             \u001b[0mfeatures\u001b[0m \u001b[1;33m=\u001b[0m \u001b[0mvectorizer\u001b[0m\u001b[1;33m.\u001b[0m\u001b[0mfit_transform\u001b[0m\u001b[1;33m(\u001b[0m\u001b[0mitems\u001b[0m\u001b[1;33m)\u001b[0m\u001b[1;33m\u001b[0m\u001b[0m\n\u001b[0;32m     23\u001b[0m         \u001b[1;32melse\u001b[0m\u001b[1;33m:\u001b[0m\u001b[1;33m\u001b[0m\u001b[0m\n\u001b[1;32m---> 24\u001b[1;33m             \u001b[0mfeatures\u001b[0m \u001b[1;33m=\u001b[0m \u001b[0mvectorizer\u001b[0m\u001b[1;33m.\u001b[0m\u001b[0mtransform\u001b[0m\u001b[1;33m(\u001b[0m\u001b[0mitems\u001b[0m\u001b[1;33m)\u001b[0m\u001b[1;33m\u001b[0m\u001b[0m\n\u001b[0m\u001b[0;32m     25\u001b[0m \u001b[1;33m\u001b[0m\u001b[0m\n\u001b[0;32m     26\u001b[0m         \u001b[1;32mreturn\u001b[0m \u001b[0mfeatures\u001b[0m\u001b[1;33m\u001b[0m\u001b[0m\n",
      "\u001b[1;31mUnboundLocalError\u001b[0m: local variable 'vectorizer' referenced before assignment"
     ]
    }
   ],
   "source": [
    "param_space = {\n",
    "    'algorithm': ['SVC'],\n",
    "    'kernel':['rbf'],\n",
    "    'C': scipy.stats.expon(scale=10), \n",
    "    'gamma': scipy.stats.expon(scale=0.1),\n",
    "    'class_weight':['balanced',None],\n",
    "    'ngrams':[[1,1], [1,2], [1,3]]\n",
    "}\n",
    "\n",
    "if not os.path.exists('tuning'):\n",
    "    os.mkdir('tuning')\n",
    "\n",
    "svc_search_record = sksk.ParameterSearchRecord('tuning/clpsych_svc_tuning.pkl')\n",
    "\n",
    "bestConf, bestScore = tuner.do_search(param_space, svc_search_record, budget=1000, n_folds=5)"
   ]
  },
  {
   "cell_type": "code",
   "execution_count": null,
   "metadata": {},
   "outputs": [],
   "source": [
    "print('best score is {}, obtained with:'.format(bestScore))\n",
    "\n",
    "for (key, val) in bestConf.items():\n",
    "    print(\"  {} = {}\".format(key, val))"
   ]
  },
  {
   "cell_type": "code",
   "execution_count": null,
   "metadata": {},
   "outputs": [],
   "source": [
    "    \n",
    "visualizer = sksk.ParameterSearchVisualizer()\n",
    "\n",
    "visualizer.visualize_random_search(\n",
    "    svc_search_record, \n",
    "    x_axis='gamma', \n",
    "    y_axis='C', \n",
    "    filter_by={'maxSubjectFeatures':None, 'maxBodyFeatures':None},\n",
    "    figsize=(8, 6)\n",
    ")"
   ]
  },
  {
   "cell_type": "code",
   "execution_count": null,
   "metadata": {},
   "outputs": [],
   "source": [
    "class PostEvaluator(sksk.Evaluator):\n",
    "    \n",
    "    def initialize_algorithm(self, config):\n",
    "        \n",
    "        return PostClassifier(config)\n",
    "    \n",
    "evaluator = PostEvaluator(train_df.text, train_df.priority)\n",
    "\n",
    "configs = []\n",
    "configs.append(sksk.merge_configs({'id':'tuned svm'}, bestConf))\n",
    "configs.append({'id':'untuned svm'})\n",
    "\n",
    "results = evaluator.evaluate_with_testset(configs, test_df.text, test_df.priority)\n",
    "scoreTable = pd.DataFrame.from_dict(results.scores).transpose()\n",
    "print(scoreTable)"
   ]
  },
  {
   "cell_type": "code",
   "execution_count": 3,
   "metadata": {
    "collapsed": true,
    "jupyter": {
     "outputs_hidden": true,
     "source_hidden": true
    }
   },
   "outputs": [
    {
     "name": "stdout",
     "output_type": "stream",
     "text": [
      "Mean: 411.0960929250264 \n",
      "Median: 218.0 \n",
      "Std: 600.4321149494463 \n"
     ]
    },
    {
     "data": {
      "text/plain": [
       "{'whiskers': [<matplotlib.lines.Line2D at 0x129a4983fd0>,\n",
       "  <matplotlib.lines.Line2D at 0x129a49a73c8>],\n",
       " 'caps': [<matplotlib.lines.Line2D at 0x129a49a7748>,\n",
       "  <matplotlib.lines.Line2D at 0x129a49a7ac8>],\n",
       " 'boxes': [<matplotlib.lines.Line2D at 0x129a4983e80>],\n",
       " 'medians': [<matplotlib.lines.Line2D at 0x129a49a7e48>],\n",
       " 'fliers': [<matplotlib.lines.Line2D at 0x129a49c3208>],\n",
       " 'means': []}"
      ]
     },
     "execution_count": 3,
     "metadata": {},
     "output_type": "execute_result"
    },
    {
     "data": {
      "image/png": "[encoded data removed]",
      "text/plain": [
       "<Figure size 432x288 with 1 Axes>"
      ]
     },
     "metadata": {
      "needs_background": "light"
     },
     "output_type": "display_data"
    }
   ],
   "source": [
    "text_lengths = np.array([len(sent) for sent in train_df.text])\n",
    "\n",
    "print(f'Mean: {np.mean(text_lengths)} \\nMedian: {np.median(text_lengths)} \\nStd: {np.std(text_lengths)} ')\n",
    "\n",
    "plt.boxplot(text_lengths)"
   ]
  },
  {
   "cell_type": "code",
   "execution_count": 4,
   "metadata": {
    "collapsed": true,
    "jupyter": {
     "outputs_hidden": true,
     "source_hidden": true
    }
   },
   "outputs": [
    {
     "name": "stdout",
     "output_type": "stream",
     "text": [
      "Mean: 402.1701244813278 \n",
      "Median: 251.0 \n",
      "Std: 516.6792066581842 \n"
     ]
    },
    {
     "data": {
      "text/plain": [
       "{'whiskers': [<matplotlib.lines.Line2D at 0x129a4cd1748>,\n",
       "  <matplotlib.lines.Line2D at 0x129a4cd1b00>],\n",
       " 'caps': [<matplotlib.lines.Line2D at 0x129a4cd1e80>,\n",
       "  <matplotlib.lines.Line2D at 0x129a4ce4240>],\n",
       " 'boxes': [<matplotlib.lines.Line2D at 0x129a4cd15f8>],\n",
       " 'medians': [<matplotlib.lines.Line2D at 0x129a4ce45c0>],\n",
       " 'fliers': [<matplotlib.lines.Line2D at 0x129a4ce4908>],\n",
       " 'means': []}"
      ]
     },
     "execution_count": 4,
     "metadata": {},
     "output_type": "execute_result"
    },
    {
     "data": {
      "image/png": "[encoded data removed]",
      "text/plain": [
       "<Figure size 432x288 with 1 Axes>"
      ]
     },
     "metadata": {
      "needs_background": "light"
     },
     "output_type": "display_data"
    }
   ],
   "source": [
    "text_lengths = np.array([len(sent) for sent in test_df.text])\n",
    "\n",
    "print(f'Mean: {np.mean(text_lengths)} \\nMedian: {np.median(text_lengths)} \\nStd: {np.std(text_lengths)} ')\n",
    "\n",
    "plt.boxplot(text_lengths)"
   ]
  },
  {
   "cell_type": "code",
   "execution_count": 5,
   "metadata": {
    "collapsed": true,
    "jupyter": {
     "outputs_hidden": true,
     "source_hidden": true
    },
    "pycharm": {
     "is_executing": false,
     "name": "#%%\n"
    }
   },
   "outputs": [
    {
     "data": {
      "text/plain": [
       "green       549\n",
       "amber       249\n",
       "red         110\n",
       "escalate     39\n",
       "Name: priority, dtype: int64"
      ]
     },
     "execution_count": 5,
     "metadata": {},
     "output_type": "execute_result"
    }
   ],
   "source": [
    "train_df.priority.value_counts()"
   ]
  },
  {
   "cell_type": "code",
   "execution_count": 6,
   "metadata": {
    "collapsed": true,
    "jupyter": {
     "outputs_hidden": true,
     "source_hidden": true
    }
   },
   "outputs": [
    {
     "data": {
      "text/plain": [
       "green       166\n",
       "amber        47\n",
       "red          27\n",
       "escalate      1\n",
       "Name: priority, dtype: int64"
      ]
     },
     "execution_count": 6,
     "metadata": {},
     "output_type": "execute_result"
    }
   ],
   "source": [
    "test_df.priority.value_counts()"
   ]
  },
  {
   "cell_type": "code",
   "execution_count": 53,
   "metadata": {
    "jupyter": {
     "source_hidden": true
    },
    "pycharm": {
     "is_executing": false,
     "name": "#%%\n"
    }
   },
   "outputs": [],
   "source": [
    "vectorizer = TfidfVectorizer(ngram_range=(1,2))"
   ]
  },
  {
   "cell_type": "markdown",
   "metadata": {
    "jupyter": {
     "source_hidden": true
    },
    "pycharm": {
     "name": "#%% md\n"
    }
   },
   "source": [
    "# Initial model creation without using test set"
   ]
  },
  {
   "cell_type": "code",
   "execution_count": 54,
   "metadata": {
    "jupyter": {
     "source_hidden": true
    },
    "pycharm": {
     "is_executing": false,
     "name": "#%%\n"
    }
   },
   "outputs": [],
   "source": [
    "features = vectorizer.fit_transform(train_df.text)"
   ]
  },
  {
   "cell_type": "code",
   "execution_count": 55,
   "metadata": {
    "collapsed": true,
    "jupyter": {
     "outputs_hidden": true,
     "source_hidden": true
    },
    "pycharm": {
     "is_executing": false,
     "name": "#%%\n"
    }
   },
   "outputs": [
    {
     "data": {
      "text/plain": [
       "(947, 41976)"
      ]
     },
     "execution_count": 55,
     "metadata": {},
     "output_type": "execute_result"
    }
   ],
   "source": [
    "features.shape"
   ]
  },
  {
   "cell_type": "code",
   "execution_count": 56,
   "metadata": {
    "collapsed": true,
    "jupyter": {
     "outputs_hidden": true,
     "source_hidden": true
    }
   },
   "outputs": [
    {
     "data": {
      "text/plain": [
       "<matplotlib.collections.PathCollection at 0x129a9d292e8>"
      ]
     },
     "execution_count": 56,
     "metadata": {},
     "output_type": "execute_result"
    },
    {
     "data": {
      "image/png": "[encoded data removed]",
      "text/plain": [
       "<Figure size 432x288 with 1 Axes>"
      ]
     },
     "metadata": {
      "needs_background": "light"
     },
     "output_type": "display_data"
    }
   ],
   "source": [
    "dense_features = features.todense()\n",
    "\n",
    "pca = PCA(n_components=2).fit(dense_features)\n",
    "\n",
    "features_2d = pca.transform(dense_features)\n",
    "\n",
    "plt.scatter(features_2d[:, 0], features_2d[:, 1], c=train_df.priority.map({'green': 'green', \n",
    "                                                                           'amber': 'orange',\n",
    "                                                                           'red': 'red',\n",
    "                                                                           'escalate': 'black'}))"
   ]
  },
  {
   "cell_type": "code",
   "execution_count": 57,
   "metadata": {
    "collapsed": true,
    "jupyter": {
     "outputs_hidden": true,
     "source_hidden": true
    },
    "pycharm": {
     "is_executing": false,
     "name": "#%%\n"
    }
   },
   "outputs": [
    {
     "name": "stdout",
     "output_type": "stream",
     "text": [
      "Best Params: {'C': 31.409773183084354, 'class_weight': 'balanced', 'gamma': 0.009963127624352735, 'kernel': 'rbf'} \n",
      "\n",
      "Best macro avg F1 score: 0.4595593959308773 \n",
      "\n",
      "SVC(C=31.409773183084354, break_ties=False, cache_size=200,\n",
      "    class_weight='balanced', coef0=0.0, decision_function_shape='ovr', degree=3,\n",
      "    gamma=0.009963127624352735, kernel='rbf', max_iter=-1, probability=False,\n",
      "    random_state=None, shrinking=True, tol=0.001, verbose=False) \n",
      "\n",
      "Wall time: 1min 4s\n"
     ]
    }
   ],
   "source": [
    "%%time\n",
    "# X_train, X_test, y_train, y_test = train_test_split(features, \n",
    "#                                                     train_df.priority,\n",
    "#                                                     test_size=0.3,\n",
    "#                                                     # random_state=4,\n",
    "#                                                     stratify=train_df.priority)\n",
    "# print(X_train.shape, y_train.shape)\n",
    "# print(X_test.shape, y_test.shape)\n",
    "\n",
    "\n",
    "params = {'C': scipy.stats.expon(scale=100), 'gamma': scipy.stats.expon(scale=.1), 'kernel': ['rbf'], 'class_weight':['balanced']}\n",
    "\n",
    "clf = RandomizedSearchCV(estimator=SVC(),\n",
    "                         param_distributions=params,\n",
    "                         n_jobs=-1,\n",
    "                         scoring='f1_macro',\n",
    "                         cv=5,\n",
    "                         n_iter=100)\n",
    "\n",
    "searched_clf = clf.fit(features, train_df.priority)\n",
    "\n",
    "print('Best Params:', searched_clf.best_params_, '\\n')\n",
    "print('Best macro avg F1 score:', searched_clf.best_score_, '\\n')\n",
    "print(searched_clf.best_estimator_, '\\n')\n",
    "\n"
   ]
  },
  {
   "cell_type": "markdown",
   "metadata": {
    "pycharm": {
     "name": "#%% md\n"
    }
   },
   "source": [
    "# Main method to train and test classifier"
   ]
  },
  {
   "cell_type": "code",
   "execution_count": 47,
   "metadata": {
    "jupyter": {
     "source_hidden": true
    },
    "pycharm": {
     "name": "#%%\n"
    }
   },
   "outputs": [],
   "source": [
    "def run_tfidf_svc(clf, xtrain, ytrain, xtest, ytest):\n",
    "    \n",
    "    vectorizer = TfidfVectorizer()\n",
    "    \n",
    "    train_features = vectorizer.fit_transform(xtrain)\n",
    "    test_features = vectorizer.transform(xtest)\n",
    "    \n",
    "    print(f'Training feature size: {train_features.shape} \\nTesting feature size: {test_features.shape}\\n')\n",
    "    \n",
    "    print(clf, '\\n')\n",
    "    \n",
    "    clf.fit(train_features, ytrain)\n",
    "    \n",
    "    predicted_priority = clf.predict(test_features)\n",
    "\n",
    "    print('Classification Report:\\n', classification_report(ytest, predicted_priority))\n",
    "    \n",
    "    "
   ]
  },
  {
   "cell_type": "markdown",
   "metadata": {
    "pycharm": {
     "name": "#%% md\n"
    }
   },
   "source": [
    "# Train and test on full datasets"
   ]
  },
  {
   "cell_type": "markdown",
   "metadata": {
    "jupyter": {
     "outputs_hidden": false
    },
    "pycharm": {
     "name": "#%%\n"
    }
   },
   "source": [
    "## Official - ignoring 'green' priority"
   ]
  },
  {
   "cell_type": "code",
   "execution_count": 48,
   "metadata": {
    "collapsed": true,
    "jupyter": {
     "outputs_hidden": true
    },
    "pycharm": {
     "is_executing": false,
     "name": "#%%\n"
    }
   },
   "outputs": [
    {
     "name": "stdout",
     "output_type": "stream",
     "text": [
      "Training feature size: (398, 3698) \n",
      "Testing feature size: (75, 3698)\n",
      "\n",
      "SVC(C=27.727287550818158, break_ties=False, cache_size=200,\n",
      "    class_weight='balanced', coef0=0.0, decision_function_shape='ovr', degree=3,\n",
      "    gamma=0.009300920403778523, kernel='rbf', max_iter=-1, probability=False,\n",
      "    random_state=None, shrinking=True, tol=0.001, verbose=False) \n",
      "\n",
      "Classification Report:\n",
      "               precision    recall  f1-score   support\n",
      "\n",
      "       amber       0.81      0.72      0.76        47\n",
      "    escalate       0.00      0.00      0.00         1\n",
      "         red       0.60      0.67      0.63        27\n",
      "\n",
      "    accuracy                           0.69        75\n",
      "   macro avg       0.47      0.46      0.47        75\n",
      "weighted avg       0.72      0.69      0.71        75\n",
      "\n"
     ]
    }
   ],
   "source": [
    "\n",
    "official_train_df = train_df[train_df.priority != 'green']\n",
    "official_test_df = test_df[test_df.priority != 'green']\n",
    "\n",
    "run_tfidf_svc(clf = searched_clf.best_estimator_,\n",
    "              xtrain = official_train_df.text,\n",
    "              ytrain = official_train_df.priority,\n",
    "              xtest = official_test_df.text,\n",
    "              ytest = official_test_df.priority)\n"
   ]
  },
  {
   "cell_type": "markdown",
   "metadata": {
    "pycharm": {
     "name": "#%% md\n"
    }
   },
   "source": [
    "## Flagged - 'crisis + red + amber' as flagged vs 'green'"
   ]
  },
  {
   "cell_type": "code",
   "execution_count": 49,
   "metadata": {
    "pycharm": {
     "name": "#%%\n"
    }
   },
   "outputs": [
    {
     "name": "stdout",
     "output_type": "stream",
     "text": [
      "green      549\n",
      "flagged    398\n",
      "Name: priority, dtype: int64 \n",
      "\n",
      "green      166\n",
      "flagged     75\n",
      "Name: priority, dtype: int64 \n",
      "\n",
      "Training feature size: (947, 5379) \n",
      "Testing feature size: (241, 5379)\n",
      "\n",
      "SVC(C=27.727287550818158, break_ties=False, cache_size=200,\n",
      "    class_weight='balanced', coef0=0.0, decision_function_shape='ovr', degree=3,\n",
      "    gamma=0.009300920403778523, kernel='rbf', max_iter=-1, probability=False,\n",
      "    random_state=None, shrinking=True, tol=0.001, verbose=False) \n",
      "\n",
      "Classification Report:\n",
      "               precision    recall  f1-score   support\n",
      "\n",
      "     flagged       0.74      0.89      0.81        75\n",
      "       green       0.95      0.86      0.90       166\n",
      "\n",
      "    accuracy                           0.87       241\n",
      "   macro avg       0.85      0.88      0.86       241\n",
      "weighted avg       0.88      0.87      0.87       241\n",
      "\n"
     ]
    }
   ],
   "source": [
    "flagged_train_df = train_df.copy()\n",
    "flagged_test_df = test_df.copy()\n",
    "\n",
    "flagged_train_df.priority = flagged_train_df.priority.replace(to_replace=['red', 'escalate', 'amber'], value='flagged')\n",
    "flagged_test_df.priority = flagged_test_df.priority.replace(to_replace=['red', 'escalate', 'amber'], value='flagged')\n",
    "\n",
    "print(flagged_train_df.priority.value_counts(), '\\n')\n",
    "print(flagged_test_df.priority.value_counts(), '\\n')\n",
    "\n",
    "run_tfidf_svc(clf = searched_clf.best_estimator_,\n",
    "              xtrain = flagged_train_df.text,\n",
    "              ytrain = flagged_train_df.priority,\n",
    "              xtest = flagged_test_df.text,\n",
    "              ytest = flagged_test_df.priority)\n",
    "\n"
   ]
  },
  {
   "cell_type": "markdown",
   "metadata": {
    "pycharm": {
     "name": "#%% md\n"
    }
   },
   "source": [
    "## Urgent - 'red + escalate' as urgent vs 'amber + green' as non_urgent"
   ]
  },
  {
   "cell_type": "code",
   "execution_count": 50,
   "metadata": {
    "pycharm": {
     "name": "#%%\n"
    }
   },
   "outputs": [
    {
     "name": "stdout",
     "output_type": "stream",
     "text": [
      "non_urgent    798\n",
      "urgent        149\n",
      "Name: priority, dtype: int64 \n",
      "\n",
      "non_urgent    213\n",
      "urgent         28\n",
      "Name: priority, dtype: int64 \n",
      "\n",
      "Training feature size: (947, 5379) \n",
      "Testing feature size: (241, 5379)\n",
      "\n",
      "SVC(C=27.727287550818158, break_ties=False, cache_size=200,\n",
      "    class_weight='balanced', coef0=0.0, decision_function_shape='ovr', degree=3,\n",
      "    gamma=0.009300920403778523, kernel='rbf', max_iter=-1, probability=False,\n",
      "    random_state=None, shrinking=True, tol=0.001, verbose=False) \n",
      "\n",
      "Classification Report:\n",
      "               precision    recall  f1-score   support\n",
      "\n",
      "  non_urgent       0.97      0.90      0.93       213\n",
      "      urgent       0.51      0.82      0.63        28\n",
      "\n",
      "    accuracy                           0.89       241\n",
      "   macro avg       0.74      0.86      0.78       241\n",
      "weighted avg       0.92      0.89      0.90       241\n",
      "\n"
     ]
    }
   ],
   "source": [
    "urgent_train_df = train_df.copy()\n",
    "urgent_test_df = test_df.copy()\n",
    "\n",
    "urgent_train_df.priority = urgent_train_df.priority.replace(to_replace=['red', 'escalate'], value='urgent')\n",
    "urgent_train_df.priority = urgent_train_df.priority.replace(to_replace=['green', 'amber'], value='non_urgent')\n",
    "\n",
    "urgent_test_df.priority = urgent_test_df.priority.replace(to_replace=['red', 'escalate'], value='urgent')\n",
    "urgent_test_df.priority = urgent_test_df.priority.replace(to_replace=['green', 'amber'], value='non_urgent')\n",
    "\n",
    "print(urgent_train_df.priority.value_counts(), '\\n')\n",
    "print(urgent_test_df.priority.value_counts(), '\\n')\n",
    "\n",
    "run_tfidf_svc(clf = searched_clf.best_estimator_,\n",
    "              xtrain = urgent_train_df.text,\n",
    "              ytrain = urgent_train_df.priority,\n",
    "              xtest = urgent_test_df.text,\n",
    "              ytest = urgent_test_df.priority)\n"
   ]
  },
  {
   "cell_type": "markdown",
   "metadata": {
    "pycharm": {
     "name": "#%% md\n"
    }
   },
   "source": [
    "## Full dataset with individual categories"
   ]
  },
  {
   "cell_type": "code",
   "execution_count": 51,
   "metadata": {
    "collapsed": false,
    "jupyter": {
     "outputs_hidden": false
    },
    "pycharm": {
     "name": "#%%\n"
    }
   },
   "outputs": [
    {
     "name": "stdout",
     "output_type": "stream",
     "text": [
      "Training feature size: (947, 5379) \n",
      "Testing feature size: (241, 5379)\n",
      "\n",
      "SVC(C=27.727287550818158, break_ties=False, cache_size=200,\n",
      "    class_weight='balanced', coef0=0.0, decision_function_shape='ovr', degree=3,\n",
      "    gamma=0.009300920403778523, kernel='rbf', max_iter=-1, probability=False,\n",
      "    random_state=None, shrinking=True, tol=0.001, verbose=False) \n",
      "\n",
      "Classification Report:\n",
      "               precision    recall  f1-score   support\n",
      "\n",
      "       amber       0.52      0.66      0.58        47\n",
      "    escalate       0.00      0.00      0.00         1\n",
      "       green       0.95      0.85      0.90       166\n",
      "         red       0.55      0.63      0.59        27\n",
      "\n",
      "    accuracy                           0.78       241\n",
      "   macro avg       0.50      0.53      0.52       241\n",
      "weighted avg       0.82      0.78      0.80       241\n",
      "\n"
     ]
    }
   ],
   "source": [
    "run_tfidf_svc(clf = searched_clf.best_estimator_,\n",
    "              xtrain = train_df.text,\n",
    "              ytrain = train_df.priority,\n",
    "              xtest = test_df.text,\n",
    "              ytest = test_df.priority)"
   ]
  },
  {
   "cell_type": "markdown",
   "metadata": {},
   "source": [
    "# Temp Rough Work"
   ]
  },
  {
   "cell_type": "code",
   "execution_count": 16,
   "metadata": {},
   "outputs": [],
   "source": [
    "# train_features = vectorizer.fit_transform(train_df.text)\n",
    "\n",
    "# test_features = vectorizer.transform(test_df[test_df.priority != 'green'].text)\n",
    "\n",
    "# print(train_features.shape, train_df.priority.shape)\n",
    "# print(test_features.shape, test_df[test_df.priority != 'green'].priority.shape, '\\n')\n",
    "\n",
    "# svc_clf = SVC(class_weight='balanced')\n",
    "\n",
    "# print(svc_clf, '\\n')\n",
    "\n",
    "# svc_clf.fit(train_features, train_df.priority)\n",
    "\n",
    "# predicted_priority = svc_clf.predict(test_features)\n",
    "\n",
    "# print(classification_report(test_df[test_df.priority != 'green'].priority, predicted_priority))"
   ]
  }
 ],
 "metadata": {
  "kernelspec": {
   "display_name": "Python 3",
   "language": "python",
   "name": "python3"
  },
  "language_info": {
   "codemirror_mode": {
    "name": "ipython",
    "version": 3
   },
   "file_extension": ".py",
   "mimetype": "text/x-python",
   "name": "python",
   "nbconvert_exporter": "python",
   "pygments_lexer": "ipython3",
   "version": "3.7.0"
  }
 },
 "nbformat": 4,
 "nbformat_minor": 4
}
